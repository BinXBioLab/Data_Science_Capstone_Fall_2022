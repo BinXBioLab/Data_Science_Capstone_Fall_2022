{
  "nbformat": 4,
  "nbformat_minor": 0,
  "metadata": {
    "colab": {
      "provenance": [],
      "collapsed_sections": [],
      "machine_shape": "hm",
      "toc_visible": true
    },
    "kernelspec": {
      "display_name": "Python 3",
      "language": "python",
      "name": "python3"
    },
    "language_info": {
      "codemirror_mode": {
        "name": "ipython",
        "version": 3
      },
      "file_extension": ".py",
      "mimetype": "text/x-python",
      "name": "python",
      "nbconvert_exporter": "python",
      "pygments_lexer": "ipython3",
      "version": "3.7.1"
    }
  },
  "cells": [
    {
      "cell_type": "markdown",
      "source": [
        "#Cell-Cell Interactions - Notebook 2/2\n",
        "##Notebook purpose: Run CellPhoneDB Statistical Analysis Method\n",
        "\n"
      ],
      "metadata": {
        "id": "4FAZY6nDf9DB"
      }
    },
    {
      "cell_type": "markdown",
      "source": [
        "###Setup Notebook for CellphoneDB"
      ],
      "metadata": {
        "id": "VaQFL20RfPJx"
      }
    },
    {
      "cell_type": "markdown",
      "source": [
        "pip install cellphonedb will ensure all dependency packages match requirements set by CellPhoneDB package."
      ],
      "metadata": {
        "id": "hatNFup-vC-r"
      }
    },
    {
      "cell_type": "code",
      "source": [
        "!pip install cellphonedb \n",
        "import cellphonedb"
      ],
      "metadata": {
        "id": "xcZWoEmSu9U1"
      },
      "execution_count": null,
      "outputs": []
    },
    {
      "cell_type": "code",
      "source": [
        "#mount access to google drive to access relevant data for input and output files\n",
        "from google.colab import drive\n",
        "drive.mount('/mntDrive')"
      ],
      "metadata": {
        "colab": {
          "base_uri": "https://localhost:8080/"
        },
        "id": "qNC_dxW-f5xQ",
        "outputId": "e23b2ef6-c273-48d5-b1fc-74ae43ffdc7b"
      },
      "execution_count": null,
      "outputs": [
        {
          "output_type": "stream",
          "name": "stdout",
          "text": [
            "Mounted at /mntDrive\n"
          ]
        }
      ]
    },
    {
      "cell_type": "code",
      "source": [
        "#change to relevant directory in mounted drive - you can now assume you are working from this directory\n",
        "#helpful to navigate to folder where input files are located\n",
        "%cd /mntDrive/MyDrive/Capstone/CellphoneDB_Files"
      ],
      "metadata": {
        "colab": {
          "base_uri": "https://localhost:8080/"
        },
        "id": "g4K0JddRgZNP",
        "outputId": "55b765f3-3040-4c30-cd7c-671ce44a61a5"
      },
      "execution_count": null,
      "outputs": [
        {
          "output_type": "stream",
          "name": "stdout",
          "text": [
            "/mntDrive/.shortcut-targets-by-id/1z3q46vaebOyzwaeo5O--GgQmX-22nmRh/Capstone/CellphoneDB_Files\n"
          ]
        }
      ]
    },
    {
      "cell_type": "markdown",
      "source": [
        "##Run Statistical Analysis"
      ],
      "metadata": {
        "id": "VRsiIFaVhlD0"
      }
    },
    {
      "cell_type": "markdown",
      "source": [
        "TO DO: locate input data file paths with respect to current directory (meta_data.txt & counts_data.txt)\n",
        "\n",
        "Expected Output: Verbose outputs will print periodically. Statistical Analysis output files will be saved in a new folder \"/out\" within current directory.\n",
        "\n",
        "Note: Can take up to 3.5 hours to run. If verbose output ends with \"^C\" memory limit has been reached and larger RAM space is required for input data files."
      ],
      "metadata": {
        "id": "hRKFtmRbiliE"
      }
    },
    {
      "cell_type": "code",
      "source": [
        "!cellphonedb method statistical_analysis meta_data.txt counts_data.txt"
      ],
      "metadata": {
        "id": "j8WK8XAahi3H"
      },
      "execution_count": null,
      "outputs": []
    },
    {
      "cell_type": "markdown",
      "source": [
        "##Generate Visualizations - Dot Plot & Heatmap Plot"
      ],
      "metadata": {
        "id": "sohv_JtnxTtq"
      }
    },
    {
      "cell_type": "markdown",
      "source": [
        "To Do: Ensure proper path is shown below to output files"
      ],
      "metadata": {
        "id": "oL3bkroYyECt"
      }
    },
    {
      "cell_type": "code",
      "source": [
        "#plot dotplot \n",
        "!cellphonedb plot dot_plot --means-path /out/means.txt --pvalues-path /out/pvalues.txt"
      ],
      "metadata": {
        "id": "aNmbEET4yBmU"
      },
      "execution_count": null,
      "outputs": []
    },
    {
      "cell_type": "markdown",
      "source": [
        "Heatmap plot requires R package installation, only run if heatmap plotting is desired."
      ],
      "metadata": {
        "id": "L4e4xkJixcqR"
      }
    },
    {
      "cell_type": "code",
      "source": [
        "#import r2py for notebook\n",
        "%load_ext rpy2.ipython"
      ],
      "metadata": {
        "id": "gZx3dDCRxbBQ"
      },
      "execution_count": null,
      "outputs": []
    },
    {
      "cell_type": "code",
      "source": [
        "#import R package for heatmap\n",
        "%%R \n",
        "install.packages('pheatmap')"
      ],
      "metadata": {
        "id": "pA8YNEgQxy3d"
      },
      "execution_count": null,
      "outputs": []
    },
    {
      "cell_type": "markdown",
      "source": [
        "To Do: Ensure proper path for meta_data (generated in previous script) and pvalues.txt file (generated by cellphonedb)"
      ],
      "metadata": {
        "id": "7txZZMSGybUP"
      }
    },
    {
      "cell_type": "code",
      "source": [
        "!cellphonedb plot heatmap_plot meta_data.txt --pvalues-path /out/pvalues.txt"
      ],
      "metadata": {
        "id": "K9svSYzix-aH"
      },
      "execution_count": null,
      "outputs": []
    }
  ]
}