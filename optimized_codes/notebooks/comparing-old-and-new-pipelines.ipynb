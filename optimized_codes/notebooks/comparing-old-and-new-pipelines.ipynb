{
 "cells": [
  {
   "cell_type": "code",
   "execution_count": 1,
   "metadata": {},
   "outputs": [],
   "source": [
    "import scanpy as sc\n",
    "import anndata\n",
    "import git\n",
    "import os\n",
    "import numpy as np\n",
    "import matplotlib.pyplot as plt\n",
    "from scipy.sparse import csr_matrix\n",
    "\n",
    "git_repo = git.Repo(\".\", search_parent_directories=True)\n",
    "git_root = git_repo.git.rev_parse(\"--show-toplevel\")"
   ]
  },
  {
   "cell_type": "code",
   "execution_count": 2,
   "metadata": {},
   "outputs": [],
   "source": [
    "inter = os.path.join(git_root, \"raw_data\", \"Pasca_scRNAseq\", \"inter\")\n",
    "inter_test = os.path.join(git_root, \"raw_data\", \"Pasca_scRNAseq\", \"inter-test\")\n",
    "\n",
    "pasca_aggr_old_path = os.path.join(inter, \"pasca_aggr.h5ad\")\n",
    "pasca_aggr_new_path = os.path.join(inter_test, \"pasca_aggr.h5ad\")\n",
    "\n",
    "pasca_preqc_old_path = os.path.join(inter, \"pasca_preqc.h5ad\")\n",
    "pasca_preqc_new_path = os.path.join(inter_test, \"pasca_preqc.h5ad\")\n",
    "\n",
    "pasca_postqc_old_path = os.path.join(inter, \"pasca_postqc.h5ad\")\n",
    "pasca_postqc_new_path = os.path.join(inter_test, \"pasca_postqc.h5ad\")\n",
    "\n",
    "pasca_log1p_old_path = os.path.join(inter, \"pasca_log1p.h5ad\")\n",
    "pasca_log1p_new_path = os.path.join(inter_test, \"pasca_log1p.h5ad\")"
   ]
  },
  {
   "cell_type": "code",
   "execution_count": 3,
   "metadata": {},
   "outputs": [],
   "source": [
    "pasca_aggr_old = anndata.read(pasca_aggr_old_path)\n",
    "pasca_aggr_new = anndata.read(pasca_aggr_new_path)\n",
    "\n",
    "pasca_preqc_old = anndata.read(pasca_preqc_old_path)\n",
    "pasca_preqc_new = anndata.read(pasca_preqc_new_path)\n",
    "\n",
    "pasca_postqc_old = anndata.read(pasca_postqc_old_path)\n",
    "pasca_postqc_new = anndata.read(pasca_postqc_new_path)\n",
    "\n",
    "pasca_log1p_old = anndata.read(pasca_log1p_old_path)\n",
    "pasca_log1p_new = anndata.read(pasca_log1p_new_path)"
   ]
  },
  {
   "cell_type": "code",
   "execution_count": 4,
   "metadata": {},
   "outputs": [],
   "source": [
    "assert pasca_aggr_old.X.shape == pasca_aggr_old.X.shape\n",
    "assert pasca_preqc_old.X.shape == pasca_preqc_old.X.shape\n",
    "assert pasca_postqc_old.X.shape == pasca_postqc_old.X.shape\n",
    "assert pasca_log1p_old.X.shape == pasca_log1p_old.X.shape"
   ]
  },
  {
   "cell_type": "code",
   "execution_count": 5,
   "metadata": {},
   "outputs": [
    {
     "name": "stderr",
     "output_type": "stream",
     "text": [
      "/Users/darvesh/opt/anaconda3/envs/scrna/lib/python3.10/site-packages/anndata/_core/anndata.py:1785: FutureWarning: X.dtype being converted to np.float32 from float64. In the next version of anndata (0.9) conversion will not be automatic. Pass dtype explicitly to avoid this warning. Pass `AnnData(X, dtype=X.dtype, ...)` to get the future behavour.\n",
      "  [AnnData(sparse.csr_matrix(a.shape), obs=a.obs) for a in all_adatas],\n"
     ]
    }
   ],
   "source": [
    "adata1 = sc.read_10x_mtx('../../raw_data/Pasca_scRNAseq/raw/GSM4306931_Control_1',var_names='gene_symbols',cache=True, gex_only=True)\n",
    "adata2 = sc.read_10x_mtx('../../raw_data/Pasca_scRNAseq/raw/GSM4306932_Control_2',var_names='gene_symbols',cache=True, gex_only=True)\n",
    "adata3 = sc.read_10x_mtx('../../raw_data/Pasca_scRNAseq/raw/GSM4306933_Patient_1',var_names='gene_symbols',cache=True, gex_only=True)\n",
    "adata4 = sc.read_10x_mtx('../../raw_data/Pasca_scRNAseq/raw/GSM4306934_Patient_2',var_names='gene_symbols',cache=True, gex_only=True)\n",
    "adata = adata1.concatenate(adata2,adata3,adata4)\n",
    "adata.X = csr_matrix(adata.X)"
   ]
  },
  {
   "cell_type": "code",
   "execution_count": 6,
   "metadata": {},
   "outputs": [],
   "source": [
    "array0 = adata.X.toarray()\n",
    "array1 = pasca_aggr_old.X.toarray()\n",
    "array2 = pasca_aggr_new.X.toarray()"
   ]
  },
  {
   "cell_type": "code",
   "execution_count": 7,
   "metadata": {},
   "outputs": [],
   "source": [
    "array0_nonzero = np.nonzero(array0)\n",
    "array1_nonzero = np.nonzero(array1)\n",
    "array2_nonzero = np.nonzero(array2)"
   ]
  },
  {
   "cell_type": "code",
   "execution_count": 8,
   "metadata": {},
   "outputs": [
    {
     "data": {
      "text/plain": [
       "(array([    0,     0,     0, ..., 45299, 45299, 45299]),\n",
       " array([   17,    18,    26, ..., 33503, 33504, 33505]))"
      ]
     },
     "execution_count": 8,
     "metadata": {},
     "output_type": "execute_result"
    }
   ],
   "source": [
    "array0_nonzero"
   ]
  },
  {
   "cell_type": "code",
   "execution_count": 9,
   "metadata": {},
   "outputs": [
    {
     "data": {
      "text/plain": [
       "(array([    0,     0,     0, ..., 45299, 45299, 45299]),\n",
       " array([   17,    18,    26, ..., 33503, 33504, 33505]))"
      ]
     },
     "execution_count": 9,
     "metadata": {},
     "output_type": "execute_result"
    }
   ],
   "source": [
    "array1_nonzero"
   ]
  },
  {
   "cell_type": "code",
   "execution_count": 10,
   "metadata": {},
   "outputs": [
    {
     "data": {
      "text/plain": [
       "(array([    0,     0,     0, ..., 45299, 45299, 45299]),\n",
       " array([   17,    18,    26, ..., 33503, 33504, 33505]))"
      ]
     },
     "execution_count": 10,
     "metadata": {},
     "output_type": "execute_result"
    }
   ],
   "source": [
    "array2_nonzero"
   ]
  },
  {
   "cell_type": "code",
   "execution_count": null,
   "metadata": {},
   "outputs": [],
   "source": [
    "np.array_equal(array0, array2)"
   ]
  }
 ],
 "metadata": {
  "kernelspec": {
   "display_name": "Python 3.10.6 ('scrna')",
   "language": "python",
   "name": "python3"
  },
  "language_info": {
   "codemirror_mode": {
    "name": "ipython",
    "version": 3
   },
   "file_extension": ".py",
   "mimetype": "text/x-python",
   "name": "python",
   "nbconvert_exporter": "python",
   "pygments_lexer": "ipython3",
   "version": "3.10.6"
  },
  "orig_nbformat": 4,
  "vscode": {
   "interpreter": {
    "hash": "95e5b802012dd0f1d4b4db8bf3f5c1d04cf3137e028f81e65c3a4f50d070203e"
   }
  }
 },
 "nbformat": 4,
 "nbformat_minor": 2
}
