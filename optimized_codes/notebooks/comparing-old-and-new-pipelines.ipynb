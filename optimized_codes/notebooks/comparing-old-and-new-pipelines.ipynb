{
 "cells": [
  {
   "cell_type": "code",
   "execution_count": 1,
   "metadata": {},
   "outputs": [],
   "source": [
    "import scanpy as sc\n",
    "import anndata\n",
    "import git\n",
    "import os\n",
    "import numpy as np\n",
    "import matplotlib.pyplot as plt\n",
    "from scipy.sparse import csr_matrix\n",
    "from tqdm.notebook import tqdm\n",
    "\n",
    "git_repo = git.Repo(\".\", search_parent_directories=True)\n",
    "git_root = git_repo.git.rev_parse(\"--show-toplevel\")"
   ]
  },
  {
   "cell_type": "code",
   "execution_count": 2,
   "metadata": {},
   "outputs": [
    {
     "data": {
      "application/vnd.jupyter.widget-view+json": {
       "model_id": "6cd2c93cf0ea4b8283d9b344427f0c4a",
       "version_major": 2,
       "version_minor": 0
      },
      "text/plain": [
       "  0%|          | 0/4 [00:00<?, ?it/s]"
      ]
     },
     "metadata": {},
     "output_type": "display_data"
    },
    {
     "data": {
      "application/vnd.jupyter.widget-view+json": {
       "model_id": "46f0c0b5d608492895b2db53de9716bc",
       "version_major": 2,
       "version_minor": 0
      },
      "text/plain": [
       "  0%|          | 0/4 [00:00<?, ?it/s]"
      ]
     },
     "metadata": {},
     "output_type": "display_data"
    },
    {
     "data": {
      "application/vnd.jupyter.widget-view+json": {
       "model_id": "dc90cc44e56b423c9d65ec71024ff97a",
       "version_major": 2,
       "version_minor": 0
      },
      "text/plain": [
       "  0%|          | 0/4 [00:00<?, ?it/s]"
      ]
     },
     "metadata": {},
     "output_type": "display_data"
    },
    {
     "data": {
      "application/vnd.jupyter.widget-view+json": {
       "model_id": "d58c7d8630b14d958c615a3a6f5c5788",
       "version_major": 2,
       "version_minor": 0
      },
      "text/plain": [
       "  0%|          | 0/4 [00:00<?, ?it/s]"
      ]
     },
     "metadata": {},
     "output_type": "display_data"
    }
   ],
   "source": [
    "# Loading and converting all data\n",
    "inter = os.path.join(git_root, \"raw_data\", \"Pasca_scRNAseq\", \"inter\")\n",
    "inter_test = os.path.join(git_root, \"raw_data\", \"Pasca_scRNAseq\", \"inter-test\")\n",
    "filenames = [\"pasca_aggr.h5ad\", \"pasca_preqc.h5ad\", \"pasca_postqc.h5ad\", \"pasca_log1p.h5ad\"]\n",
    "\n",
    "old_filepaths = [os.path.join(inter, \"pasca_aggr.h5ad\") for f in filenames]\n",
    "new_filepaths = [os.path.join(inter_test, \"pasca_aggr.h5ad\") for f in filenames]\n",
    "\n",
    "old_files = [anndata.read(fp) for fp in tqdm(old_filepaths)]\n",
    "new_files = [anndata.read(fp) for fp in tqdm(old_filepaths)]\n",
    "\n",
    "old_counts = [data.X.toarray() for data in tqdm(old_files)]\n",
    "new_counts = [data.X.toarray() for data in tqdm(new_files)]"
   ]
  },
  {
   "cell_type": "code",
   "execution_count": 3,
   "metadata": {},
   "outputs": [],
   "source": [
    "# Checking shapes of counts matrices\n",
    "for idx, (x,y) in enumerate(zip(old_files, new_files)):\n",
    "    try:\n",
    "        assert x.shape == y.shape\n",
    "    except AssertionError:\n",
    "        print(f\"{filenames[idx]}: old: {x.X.shape} | new: {y.X.shape}\")"
   ]
  },
  {
   "cell_type": "code",
   "execution_count": 4,
   "metadata": {},
   "outputs": [
    {
     "data": {
      "application/vnd.jupyter.widget-view+json": {
       "model_id": "abac5df1ccf64805adddbc2a3892407e",
       "version_major": 2,
       "version_minor": 0
      },
      "text/plain": [
       "0it [00:00, ?it/s]"
      ]
     },
     "metadata": {},
     "output_type": "display_data"
    }
   ],
   "source": [
    "# Deep check of counts array equality\n",
    "for idx, (x,y) in tqdm(enumerate(zip(old_counts, new_counts)), total=len(filenames)):\n",
    "    if not np.array_equal(x, y):\n",
    "        print(filenames[idx])"
   ]
  }
 ],
 "metadata": {
  "kernelspec": {
   "display_name": "Python 3.10.6 ('scrna')",
   "language": "python",
   "name": "python3"
  },
  "language_info": {
   "codemirror_mode": {
    "name": "ipython",
    "version": 3
   },
   "file_extension": ".py",
   "mimetype": "text/x-python",
   "name": "python",
   "nbconvert_exporter": "python",
   "pygments_lexer": "ipython3",
   "version": "3.10.6"
  },
  "orig_nbformat": 4,
  "vscode": {
   "interpreter": {
    "hash": "95e5b802012dd0f1d4b4db8bf3f5c1d04cf3137e028f81e65c3a4f50d070203e"
   }
  }
 },
 "nbformat": 4,
 "nbformat_minor": 2
}
