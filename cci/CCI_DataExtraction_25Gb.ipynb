{
  "nbformat": 4,
  "nbformat_minor": 0,
  "metadata": {
    "colab": {
      "provenance": [],
      "machine_shape": "hm",
      "include_colab_link": true
    },
    "kernelspec": {
      "display_name": "Python 3",
      "language": "python",
      "name": "python3"
    },
    "language_info": {
      "codemirror_mode": {
        "name": "ipython",
        "version": 3
      },
      "file_extension": ".py",
      "mimetype": "text/x-python",
      "name": "python",
      "nbconvert_exporter": "python",
      "pygments_lexer": "ipython3",
      "version": "3.7.1"
    }
  },
  "cells": [
    {
      "cell_type": "markdown",
      "metadata": {
        "id": "view-in-github",
        "colab_type": "text"
      },
      "source": [
        "<a href=\"https://colab.research.google.com/github/BinXBioLab/Data_Science_Capstone_Fall_2022/blob/main/CCI_DataExtraction_25Gb.ipynb\" target=\"_parent\"><img src=\"https://colab.research.google.com/assets/colab-badge.svg\" alt=\"Open In Colab\"/></a>"
      ]
    },
    {
      "cell_type": "markdown",
      "source": [
        "#Cell-Cell Interactions - Notebook 1/2\n",
        "##Notebook purpose: Create input files for CellPhoneDB\n",
        "\n",
        "\n",
        "Should version conflicts arise, please see `dataextraction_requirements.txt` for full list of package versions successfully tested.\n",
        "\n"
      ],
      "metadata": {
        "id": "4FAZY6nDf9DB"
      }
    },
    {
      "cell_type": "markdown",
      "source": [
        "###Setup Notebook for data extraction"
      ],
      "metadata": {
        "id": "VaQFL20RfPJx"
      }
    },
    {
      "cell_type": "markdown",
      "source": [
        "To Do: Click \"RESTART RUNTIME\" button at end of code output after running pip install cell below!"
      ],
      "metadata": {
        "id": "jhpsdg7LqR4q"
      }
    },
    {
      "cell_type": "code",
      "source": [
        "#Need to install scanpy for data import and extraction process, this requires restarting runtime \n",
        "!pip install scanpy==1.9.1"
      ],
      "metadata": {
        "id": "eMNQwMytesoC"
      },
      "execution_count": null,
      "outputs": []
    },
    {
      "cell_type": "code",
      "source": [
        "#mount access to google drive to access relevant data for input and output files\n",
        "from google.colab import drive\n",
        "drive.mount('/mntDrive')"
      ],
      "metadata": {
        "id": "qNC_dxW-f5xQ"
      },
      "execution_count": null,
      "outputs": []
    },
    {
      "cell_type": "markdown",
      "source": [
        "TO DO: update directory path below to match your drive and desired working folder.\n",
        "\n",
        "Example Syntax:\n",
        "\n",
        "\n",
        "\n",
        "```\n",
        "%cd /mntDrive/MyDrive/Capstone/CellphoneDB_Files/22qAGGR01/\n",
        "```\n",
        "\n"
      ],
      "metadata": {
        "id": "Zhed8lo_2x_Y"
      }
    },
    {
      "cell_type": "code",
      "source": [
        "#change to relevant directory in mounted drive - you can now assume you are working from this directory\n",
        "%cd /mntDrive/MyDrive/Folder1/Folder2"
      ],
      "metadata": {
        "id": "g4K0JddRgZNP"
      },
      "execution_count": null,
      "outputs": []
    },
    {
      "cell_type": "markdown",
      "source": [
        "Script tested with the following versions:\n",
        "\n",
        "- pandas==1.3.5\n",
        "- scanpy==1.9.1"
      ],
      "metadata": {
        "id": "7dnDSKWl4Auw"
      }
    },
    {
      "cell_type": "code",
      "source": [
        "#import packages needed for data extraction\n",
        "import pandas as pd\n",
        "import scanpy as sc\n",
        "import os "
      ],
      "metadata": {
        "id": "fVZ1vh9_5tzF"
      },
      "execution_count": null,
      "outputs": []
    },
    {
      "cell_type": "markdown",
      "source": [
        "##Import Data and Transform"
      ],
      "metadata": {
        "id": "VRsiIFaVhlD0"
      }
    },
    {
      "cell_type": "markdown",
      "source": [
        "TO DO: fill filepath variable in with your desired input file, .h5ad format expected. \n",
        "\n",
        "Example syntax:\n",
        "\n",
        "\n",
        "\n",
        "```\n",
        "adata_filepath = '../pasca.log1p_liger_med_singleR_noglyc_anndata080.h5ad'\n",
        "```\n",
        "\n"
      ],
      "metadata": {
        "id": "hRKFtmRbiliE"
      }
    },
    {
      "cell_type": "code",
      "source": [
        "adata_filepath = '</folder/folder/data_analysis_output_file.h5ad>' \n",
        "adata = sc.read(adata_filepath)\n",
        "#visual inspection of file format -- may be needed to specify cell type label layer\n",
        "adata"
      ],
      "metadata": {
        "id": "j8WK8XAahi3H"
      },
      "execution_count": null,
      "outputs": []
    },
    {
      "cell_type": "markdown",
      "source": [
        "Create Counts Data File: \n",
        "\n",
        "columns = cells, rows = genes (ensemble IDs) "
      ],
      "metadata": {
        "id": "_GKqgLZFmZMT"
      }
    },
    {
      "cell_type": "code",
      "source": [
        "#extracts counts layer of anndata file\n",
        "df_counts = adata.to_df(layer=\"counts\")\n",
        "#transpose dataframe to fit column & row requirements\n",
        "df_counts = df_counts.T\n",
        "# # Set cell ids as column headers\n",
        "df_counts.columns = adata.obs.index\n",
        "# # Set rows/genes to Ensemble ID\n",
        "df_counts.set_index(adata.var.gene_ids, inplace=True) \n",
        "# # Visual inspection for correct format\n",
        "df_counts.head()"
      ],
      "metadata": {
        "id": "Nc-8yF0_mCE7"
      },
      "execution_count": null,
      "outputs": []
    },
    {
      "cell_type": "markdown",
      "source": [
        "Data cleaning steps to group by patient type: case, control, timepoint, and any other criteria desired.\n",
        "\n",
        "TO DO: insert correct obs layers from anndata file that you would like to filter by inside of \"< >\" "
      ],
      "metadata": {
        "id": "QY3i3S0WLeOO"
      }
    },
    {
      "cell_type": "code",
      "source": [
        "#separate analysis groups, i.e. control vs. case/mutant\n",
        "#create dataframe with cell, batch (genotype group), and timepoint to split \n",
        "df_group = pd.DataFrame(data={'Cell': list(adata.obs['<genotype>'].index), \n",
        "                             'Group': list(adata.obs['<genotype>']), \n",
        "                             'Timepoint': list(adata.obs['<timepoint>'])})\n",
        "#visualize dataframe\n",
        "df_group.head()"
      ],
      "metadata": {
        "id": "TngviwpGLHoc"
      },
      "execution_count": null,
      "outputs": []
    },
    {
      "cell_type": "markdown",
      "source": [
        "TO DO: Ensure column and filter term match your data & update naming conventions of lists as appropriate. \n",
        "\n",
        "example: `df_group[(df_group['Group'] == 'Control')& (df_group['Timepoint'] == '70d')] ` \n",
        "\n",
        "--> 'Group' & 'Timepoint' are columns and 'Control' & '70d' are the filters in example dataset. "
      ],
      "metadata": {
        "id": "DbCPiWfhMDc-"
      }
    },
    {
      "cell_type": "code",
      "source": [
        "#create lists of cells belonging to each group of interest, in example below we are splitting by control/case and timepoints\n",
        "control_70d = list(df_group[(df_group['Group'] == 'Control') & (df_group['Timepoint'] == '70d')]['Cell'])\n",
        "control_150d = list(df_group[(df_group['Group'] == 'Control') & (df_group['Timepoint'] == '150d')]['Cell'])\n",
        "case_70d = list(df_group[(df_group['Group'] == 'Case') & (df_group['Timepoint'] == '70d')]['Cell'])\n",
        "case_150d = list(df_group[(df_group['Group'] == 'Case') & (df_group['Timepoint'] == '150d')]['Cell'])"
      ],
      "metadata": {
        "id": "Y-KvD_S_LbsG"
      },
      "execution_count": null,
      "outputs": []
    },
    {
      "cell_type": "markdown",
      "source": [
        "TO DO: Update naming convention of dataframes as appropriate and update lits within bracket to match naming convention created in previous step!"
      ],
      "metadata": {
        "id": "_L9g0uTqNRok"
      }
    },
    {
      "cell_type": "code",
      "source": [
        "#create table per filter\n",
        "df_counts_case_70 = df_counts[case_70d]\n",
        "df_counts_control_70 = df_counts[control_70d]\n",
        "df_counts_case_150 = df_counts[case_150d]\n",
        "df_counts_control_150 = df_counts[control_150d]"
      ],
      "metadata": {
        "id": "szd7rEjONPOC"
      },
      "execution_count": null,
      "outputs": []
    },
    {
      "cell_type": "markdown",
      "source": [
        "Prepare Meta Data File:\n",
        "\n",
        "2 columns: cell & cell type label"
      ],
      "metadata": {
        "id": "k7xTWYJdnP7E"
      }
    },
    {
      "cell_type": "markdown",
      "source": [
        "To Do: find correct layer in 'obs' that houses cell to cell type mapping. Leverage adata file organization printed above."
      ],
      "metadata": {
        "id": "pYNCWg8knsFX"
      }
    },
    {
      "cell_type": "code",
      "source": [
        "adata.obs['<layer that specifies cell type label>']"
      ],
      "metadata": {
        "id": "LJoQS4nUnL7C"
      },
      "execution_count": null,
      "outputs": []
    },
    {
      "cell_type": "code",
      "source": [
        "## generate meta file\n",
        "df_meta = pd.DataFrame(data={'Cell': list(adata.obs['<layer that specifies cell type label>'].index), \n",
        "                             'cell_type': list(adata.obs['<layer that specifies cell type label>'])})\n",
        "\n",
        "df_meta.set_index('Cell',inplace=True)\n",
        "\n",
        "#check for missing values\n",
        "print('Missing Values Count:', df_meta.isna().sum().sum())\n",
        "\n",
        "#visual inspection of table\n",
        "df_meta.head()"
      ],
      "metadata": {
        "id": "KFlmzL-hnzz4"
      },
      "execution_count": null,
      "outputs": []
    },
    {
      "cell_type": "markdown",
      "source": [
        "If Missing Values Count >0, follow next steps, otherwise skip to filtering step \"Meta table cells must match...\"\n",
        "\n",
        "To Do: Ensure shape matches between meta table # cells & counts table # cells "
      ],
      "metadata": {
        "id": "LakKNAiRpJxG"
      }
    },
    {
      "cell_type": "code",
      "source": [
        "#create list of cells missing celltype label\n",
        "drop_cells = list(df_meta[df_meta['cell_type'].isna()].index)\n",
        "\n",
        "#drop cells missing celltype label from meta dataframe\n",
        "df_meta = df_meta.dropna()\n",
        "print('Shape of Meta Table:', df_meta.shape)\n",
        "\n",
        "#update counts table to remove empty cell type\n",
        "df_counts = df_counts.drop(columns=drop_cells)\n",
        "print('Shape of Counts Table:', df_counts.shape)"
      ],
      "metadata": {
        "id": "ca7xa8pcoUD5"
      },
      "execution_count": null,
      "outputs": []
    },
    {
      "cell_type": "markdown",
      "source": [
        "Meta table cells must match cells in each counts dataset, so we must filter per grouping created above for meta files as well. \n",
        "\n",
        "TO DO: update list inside of `df_meta.index.isin(HERE!!)` to match list naming convention you created in prepping counts data section. \n",
        "\n",
        "\n"
      ],
      "metadata": {
        "id": "9BFXJ2MXNwdi"
      }
    },
    {
      "cell_type": "code",
      "source": [
        "#filter meta table per analysis grouping\n",
        "df_meta_control_70 = df_meta[df_meta.index.isin(control_70d)]\n",
        "df_meta_case_70 = df_meta[df_meta.index.isin(case_70d)]\n",
        "df_meta_control_150 = df_meta[df_meta.index.isin(control_150d)]\n",
        "df_meta_case_150 = df_meta[df_meta.index.isin(case_150d)]"
      ],
      "metadata": {
        "id": "qA1oAkpqNqil"
      },
      "execution_count": null,
      "outputs": []
    },
    {
      "cell_type": "markdown",
      "source": [
        "##Save Extracted Data to Google Drive\n",
        "\n",
        "To Do:\n",
        "Specify output path! These files will be the input for CellPhoneDB. \n",
        "\n",
        "Can take up to 1-1.5 hours to save for large files."
      ],
      "metadata": {
        "id": "aZXtGjK0oVe8"
      }
    },
    {
      "cell_type": "code",
      "source": [
        "output_filepath = '</base_folder/output_folder/>'"
      ],
      "metadata": {
        "id": "wbelQxpioi0a"
      },
      "execution_count": null,
      "outputs": []
    },
    {
      "cell_type": "markdown",
      "source": [
        "TO DO: If you have created more than 2 groupings, you will need to copy and paste the saving code to also save your other filtered groups as needed. Update the name of the inside the '' within the code to match your filter appropriately but ensure it still contains meta or count for next step usage in cellphonedb!\n",
        "\n",
        "The syntax should be as follows:\n",
        "- Meta file:\n",
        "`<name_of_df_created>.to_csv(os.path.join(output_filepath, '<name_of_new_file_meta_data.txt'), sep='\\t') `\n",
        "- Counts file:\n",
        "<name_of_df_created>.to_csv(os.path.join(output_filepath, '<name_of_new_file_counts_data.h5'), key='counts') "
      ],
      "metadata": {
        "id": "gtJrdGiYOuLe"
      }
    },
    {
      "cell_type": "code",
      "source": [
        "#saves as counts as .h5 file and meta as .txt file, tab delimited - runs within a few minutes\n",
        "## example of saving case & control for 70d timepoint\n",
        "df_meta_case_70.to_csv(os.path.join(output_filepath, 'case_70_meta_data.txt'), sep='\\t')\n",
        "df_meta_control_70.to_csv(os.path.join(output_filepath, 'control_70_meta_data.txt'), sep='\\t')\n",
        "df_counts_case_70.to_hdf(os.path.join(output_filepath, 'case_70_counts_data.h5'), key='counts') \n",
        "df_counts_control_70.to_hdf(os.path.join(output_filepath, 'control_70_counts_data.h5'), key='counts')\n",
        "\n",
        "## example of saving case and control for 150d timepoint\n",
        "df_meta_case_150.to_csv(os.path.join(output_filepath, 'case_150_meta_data.txt'), sep='\\t')\n",
        "df_meta_control_150.to_csv(os.path.join(output_filepath, 'control_150_meta_data.txt'), sep='\\t')\n",
        "df_counts_case_150.to_hdf(os.path.join(output_filepath, 'case_150_counts_data.h5'), key='counts') \n",
        "df_counts_control_150.to_hdf(os.path.join(output_filepath, 'control_150_counts_data.h5'), key='counts')"
      ],
      "metadata": {
        "id": "GZ_Pi5iNoYNj"
      },
      "execution_count": null,
      "outputs": []
    }
  ]
}