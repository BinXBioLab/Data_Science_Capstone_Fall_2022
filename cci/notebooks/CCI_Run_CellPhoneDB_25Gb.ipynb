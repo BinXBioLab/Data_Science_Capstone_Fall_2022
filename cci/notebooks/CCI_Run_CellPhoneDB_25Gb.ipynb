{
  "nbformat": 4,
  "nbformat_minor": 0,
  "metadata": {
    "colab": {
      "provenance": [],
      "machine_shape": "hm",
      "include_colab_link": true
    },
    "kernelspec": {
      "display_name": "Python 3",
      "language": "python",
      "name": "python3"
    },
    "language_info": {
      "codemirror_mode": {
        "name": "ipython",
        "version": 3
      },
      "file_extension": ".py",
      "mimetype": "text/x-python",
      "name": "python",
      "nbconvert_exporter": "python",
      "pygments_lexer": "ipython3",
      "version": "3.7.1"
    }
  },
  "cells": [
    {
      "cell_type": "markdown",
      "metadata": {
        "id": "view-in-github",
        "colab_type": "text"
      },
      "source": [
        "<a href=\"https://colab.research.google.com/github/BinXBioLab/Data_Science_Capstone_Fall_2022/blob/main/CCI_Run_CellPhoneDB_25Gb.ipynb\" target=\"_parent\"><img src=\"https://colab.research.google.com/assets/colab-badge.svg\" alt=\"Open In Colab\"/></a>"
      ]
    },
    {
      "cell_type": "markdown",
      "source": [
        "#Cell-Cell Interactions - Notebook 2/2\n",
        "##Notebook purpose: Run CellPhoneDB Statistical Analysis Method\n",
        "\n",
        "Should version conflicts arise, please see `run_cpdb_requirements.txt` for full list of successfully tested package versions. \n",
        "\n"
      ],
      "metadata": {
        "id": "4FAZY6nDf9DB"
      }
    },
    {
      "cell_type": "markdown",
      "source": [
        "###Setup Notebook for CellphoneDB"
      ],
      "metadata": {
        "id": "VaQFL20RfPJx"
      }
    },
    {
      "cell_type": "markdown",
      "source": [
        "pip install cellphonedb will ensure all dependency packages match requirements set by CellPhoneDB package. \n",
        "\n",
        "Successfully run on version 3.1.0 - suggested to use this version.\n",
        "\n",
        "**TO DO:**\n",
        "\n",
        "Restart runtime required after pip install of cellphonedb!"
      ],
      "metadata": {
        "id": "hatNFup-vC-r"
      }
    },
    {
      "cell_type": "code",
      "source": [
        "!pip install cellphonedb==3.1.0"
      ],
      "metadata": {
        "id": "xcZWoEmSu9U1"
      },
      "execution_count": null,
      "outputs": []
    },
    {
      "cell_type": "code",
      "source": [
        "import cellphonedb\n",
        "#mount access to google drive to access relevant data for input and output files\n",
        "from google.colab import drive\n",
        "drive.mount('/mntDrive')"
      ],
      "metadata": {
        "id": "qNC_dxW-f5xQ"
      },
      "execution_count": null,
      "outputs": []
    },
    {
      "cell_type": "markdown",
      "source": [
        "TO DO: update directory path below to match your drive and desired working folder.\n",
        "\n",
        "Example Syntax:\n",
        "\n",
        "\n",
        "\n",
        "```\n",
        "%cd /mntDrive/MyDrive/Capstone/CellphoneDB_Files/22qAGGR01/\n",
        "```\n",
        "\n"
      ],
      "metadata": {
        "id": "zwKM_xBLQzwj"
      }
    },
    {
      "cell_type": "code",
      "source": [
        "#change to relevant directory in mounted drive - you can now assume you are working from this directory\n",
        "#helpful to navigate to folder where input files are located\n",
        "%cd /mntDrive/MyDrive/Folder1/Folder2/Samples"
      ],
      "metadata": {
        "id": "g4K0JddRgZNP"
      },
      "execution_count": null,
      "outputs": []
    },
    {
      "cell_type": "markdown",
      "source": [
        "##Run Statistical Analysis"
      ],
      "metadata": {
        "id": "VRsiIFaVhlD0"
      }
    },
    {
      "cell_type": "markdown",
      "source": [
        "TO DO: Create output folders for each analysis you are running\n",
        "\n",
        "Example below for analysis run across control and case at two time points: \n",
        "\n",
        "\n",
        "\n",
        "```\n",
        "!mkdir CONTROL70_out\n",
        "!mkdir CONTROL150_out\n",
        "!mkdir CASE70_out\n",
        "!mkdir CASE150_out\n",
        "```\n",
        "\n"
      ],
      "metadata": {
        "id": "8khFxBe6RC1D"
      }
    },
    {
      "cell_type": "code",
      "source": [
        "!mkdir Output_folder1\n",
        "!mkdir Output_folder2"
      ],
      "metadata": {
        "id": "JsoKoQ0ARCO2"
      },
      "execution_count": null,
      "outputs": []
    },
    {
      "cell_type": "markdown",
      "source": [
        "TO DO: locate input data file paths with respect to current directory (meta_data.txt & counts_data.txt)\n",
        "\n",
        "Expected Output: Verbose outputs will print periodically. Statistical Analysis output files will be saved in folder you specify in the `--output-path=` parameter.\n",
        "\n",
        "Note: Can take up to 3.5 hours to run. If verbose output ends with \"^C\" memory limit has been reached and larger RAM space is required for input data files.\n",
        "\n",
        "Syntax Example on previous run:\n",
        "\n",
        "\n",
        "```\n",
        "!cellphonedb method statistical_analysis control_70_meta_data.txt control_70_counts_data.h5 --output-path=/mntDrive/MyDrive/Capstone/CellphoneDB_Files/22qAGGR01/CONTROL70_out\n",
        "```\n",
        "\n"
      ],
      "metadata": {
        "id": "hRKFtmRbiliE"
      }
    },
    {
      "cell_type": "code",
      "source": [
        "!cellphonedb method statistical_analysis group1_meta_data.txt group1_counts_data.h5 --output-path=/TestCode"
      ],
      "metadata": {
        "id": "j8WK8XAahi3H"
      },
      "execution_count": null,
      "outputs": []
    },
    {
      "cell_type": "code",
      "source": [
        "!cellphonedb method statistical_analysis group2_meta_data.txt group2_counts_data.h5 --output-path=/Output_folder2"
      ],
      "metadata": {
        "id": "tT9CVNNoRWdq"
      },
      "execution_count": null,
      "outputs": []
    },
    {
      "cell_type": "markdown",
      "source": [
        "##Generate Visualizations - Dot Plot & Heatmap Plot"
      ],
      "metadata": {
        "id": "sohv_JtnxTtq"
      }
    },
    {
      "cell_type": "markdown",
      "source": [
        "To Do: Ensure proper path is shown below to output files\n",
        "\n",
        "Note:\n",
        "To limit size of dotplot visualization include files with the following arguments: \n",
        "\n",
        "--rows: File with a list of rows to plot, one per line (defualt will use all available)\n",
        "\n",
        "--columns: File with a list of columns to plot, one per line (default will use all available)\n",
        "\n",
        "----------------------\n",
        "\n",
        "--output-name is used to save file as jpg (default is pdf, remove argument if you wish to save as pdf)\n",
        "\n",
        "\n",
        "Example of previously run command:\n",
        "\n",
        "\n",
        "```\n",
        "##plot case \n",
        "!cellphonedb plot dot_plot --means-path CASE_out/means.txt --pvalues-path CASE_out/pvalues.txt --output-path=/mntDrive/MyDrive/Capstone/CellphoneDB_Files/22qAGGR01/CASE_out\n",
        "```\n",
        "\n",
        "\n",
        "\n"
      ],
      "metadata": {
        "id": "oL3bkroYyECt"
      }
    },
    {
      "cell_type": "code",
      "source": [
        "#plot dotplot group 1\n",
        "!cellphonedb plot dot_plot --output-name dotplot.jpg --means-path Output_folder1/means.txt --pvalues-path Output_folder1/pvalues.txt"
      ],
      "metadata": {
        "id": "aNmbEET4yBmU"
      },
      "execution_count": null,
      "outputs": []
    },
    {
      "cell_type": "code",
      "source": [
        "#plot dotplot group 2\n",
        "!cellphonedb plot dot_plot --output-name dotplot.jpg --means-path Output_folder2/means.txt --pvalues-path Output_folder2/pvalues.txt"
      ],
      "metadata": {
        "id": "TnOV-2fNSGiH"
      },
      "execution_count": null,
      "outputs": []
    },
    {
      "cell_type": "markdown",
      "source": [
        "Heatmap plot requires R package installation, only run if heatmap plotting is desired."
      ],
      "metadata": {
        "id": "L4e4xkJixcqR"
      }
    },
    {
      "cell_type": "code",
      "source": [
        "#installing \"pheatmap\" R package requires the following version changes to be made to python packages\n",
        "##upgrade to pandas==1.3.5\n",
        "##downgrade to rpy2==3.5.1\n",
        "#Restart Runtime required after version changes are made!\n",
        "\n",
        "!pip install pandas==1.3.5\n",
        "!pip install rpy2==3.5.1\n",
        "\n",
        "import rpy2"
      ],
      "metadata": {
        "id": "lyLaOCzi6ozC"
      },
      "execution_count": null,
      "outputs": []
    },
    {
      "cell_type": "code",
      "source": [
        "#reset current working directory after runtime is restarted -- check to ensure you are pointing to folder where input files and \"out/\" folder are located\n",
        "%cd /mntDrive/MyDrive/Capstone/CellphoneDB_Files/"
      ],
      "metadata": {
        "id": "-vZB7s-Y7Ndr"
      },
      "execution_count": null,
      "outputs": []
    },
    {
      "cell_type": "code",
      "source": [
        "#import r2py for notebook\n",
        "%load_ext rpy2.ipython"
      ],
      "metadata": {
        "id": "gZx3dDCRxbBQ"
      },
      "execution_count": null,
      "outputs": []
    },
    {
      "cell_type": "code",
      "source": [
        "#import R package for heatmap\n",
        "%R install.packages('pheatmap')"
      ],
      "metadata": {
        "id": "pA8YNEgQxy3d"
      },
      "execution_count": null,
      "outputs": []
    },
    {
      "cell_type": "markdown",
      "source": [
        "To Do: Ensure proper path for meta_data (generated in previous script) and pvalues.txt file (generated by cellphonedb)\n",
        "\n",
        "Note: --count-name ensures plot is saved as jpg (defualt is pdf, remove argument if you wish to save as pdf)"
      ],
      "metadata": {
        "id": "7txZZMSGybUP"
      }
    },
    {
      "cell_type": "code",
      "source": [
        "#heatmap for group 1\n",
        "!cellphonedb plot heatmap_plot meta_data.txt --pvalues-path Output_folder1/pvalues.txt  "
      ],
      "metadata": {
        "id": "K9svSYzix-aH"
      },
      "execution_count": null,
      "outputs": []
    },
    {
      "cell_type": "code",
      "source": [
        "#heatmap for group 2\n",
        "!cellphonedb plot heatmap_plot meta_data.txt --pvalues-path Output_folder2/pvalues.txt  "
      ],
      "metadata": {
        "id": "e-1uZQohSoxV"
      },
      "execution_count": null,
      "outputs": []
    }
  ]
}