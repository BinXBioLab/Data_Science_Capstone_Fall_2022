{
  "nbformat": 4,
  "nbformat_minor": 0,
  "metadata": {
    "colab": {
      "provenance": [],
      "collapsed_sections": [],
      "toc_visible": true,
      "include_colab_link": true
    },
    "kernelspec": {
      "name": "python3",
      "display_name": "Python 3"
    },
    "language_info": {
      "name": "python"
    }
  },
  "cells": [
    {
      "cell_type": "markdown",
      "metadata": {
        "id": "view-in-github",
        "colab_type": "text"
      },
      "source": [
        "<a href=\"https://colab.research.google.com/github/BinXBioLab/Data_Science_Capstone_Fall_2022/blob/CCI/CellPhoneDB_Exploration.ipynb\" target=\"_parent\"><img src=\"https://colab.research.google.com/assets/colab-badge.svg\" alt=\"Open In Colab\"/></a>"
      ]
    },
    {
      "cell_type": "markdown",
      "source": [
        "# CellPhoneDB Exploration Notebook \n",
        "## Katharina Fijan\n"
      ],
      "metadata": {
        "id": "1nVat2bHc-DR"
      }
    },
    {
      "cell_type": "markdown",
      "source": [
        "### Data Import & Exploration"
      ],
      "metadata": {
        "id": "ZqNejXS-dQTx"
      }
    },
    {
      "cell_type": "code",
      "source": [
        "#mount access to google drive to access data from Prof Xu's lab\n",
        "from google.colab import drive\n",
        "drive.mount('/mntDrive')"
      ],
      "metadata": {
        "colab": {
          "base_uri": "https://localhost:8080/"
        },
        "id": "4Bk0DKYrW9-I",
        "outputId": "3a32ae1d-2a09-4eed-e0a7-09843cd8a8bd"
      },
      "execution_count": null,
      "outputs": [
        {
          "output_type": "stream",
          "name": "stdout",
          "text": [
            "Drive already mounted at /mntDrive; to attempt to forcibly remount, call drive.mount(\"/mntDrive\", force_remount=True).\n"
          ]
        }
      ]
    },
    {
      "cell_type": "code",
      "source": [
        "!python --version"
      ],
      "metadata": {
        "colab": {
          "base_uri": "https://localhost:8080/"
        },
        "id": "Ow1_AZKaiqwH",
        "outputId": "11f5a065-9fa9-42aa-b91f-008cf6879a2b"
      },
      "execution_count": null,
      "outputs": [
        {
          "output_type": "stream",
          "name": "stdout",
          "text": [
            "Python 3.7.14\n"
          ]
        }
      ]
    },
    {
      "cell_type": "code",
      "source": [
        "!pip freeze"
      ],
      "metadata": {
        "id": "AMdIwPVyc4gu"
      },
      "execution_count": null,
      "outputs": []
    },
    {
      "cell_type": "code",
      "source": [
        "#wait to install cellphonedb until later! -- need to downgrade anndata\n",
        "# !pip install cellphonedb\n",
        "# # !pip install scanpy\n",
        "# # !pip install anndata\n",
        "# import cellphonedb"
      ],
      "metadata": {
        "id": "CLP58WbphrEa"
      },
      "execution_count": null,
      "outputs": []
    },
    {
      "cell_type": "code",
      "source": [
        "# import pandas as pd\n",
        "import anndata as ad\n",
        "import os\n",
        "ad.__version__"
      ],
      "metadata": {
        "id": "olVoLkv4Z29_",
        "colab": {
          "base_uri": "https://localhost:8080/",
          "height": 37
        },
        "outputId": "6b5eff8c-0536-461e-c350-f6dea306e204"
      },
      "execution_count": null,
      "outputs": [
        {
          "output_type": "execute_result",
          "data": {
            "text/plain": [
              "'0.8.0'"
            ],
            "application/vnd.google.colaboratory.intrinsic+json": {
              "type": "string"
            }
          },
          "metadata": {},
          "execution_count": 5
        }
      ]
    },
    {
      "cell_type": "code",
      "source": [
        "#define save location for intermediate files\n",
        "base_filepath = ''\n",
        "inter_folder = ''\n",
        "final_folder = ''"
      ],
      "metadata": {
        "id": "TWGLWrQ3yqeO"
      },
      "execution_count": null,
      "outputs": []
    },
    {
      "cell_type": "code",
      "source": [
        "!pip install anndata==0.8.0"
      ],
      "metadata": {
        "colab": {
          "base_uri": "https://localhost:8080/",
          "height": 650
        },
        "id": "Ji5etxb0iMQr",
        "outputId": "413d51e6-8944-414b-efe5-4abdd6254f3e"
      },
      "execution_count": null,
      "outputs": [
        {
          "output_type": "stream",
          "name": "stdout",
          "text": [
            "Looking in indexes: https://pypi.org/simple, https://us-python.pkg.dev/colab-wheels/public/simple/\n",
            "Collecting anndata==0.8.0\n",
            "  Using cached anndata-0.8.0-py3-none-any.whl (96 kB)\n",
            "Requirement already satisfied: numpy>=1.16.5 in /usr/local/lib/python3.7/dist-packages (from anndata==0.8.0) (1.19.5)\n",
            "Requirement already satisfied: typing_extensions in /usr/local/lib/python3.7/dist-packages (from anndata==0.8.0) (4.1.1)\n",
            "Requirement already satisfied: packaging>=20 in /usr/local/lib/python3.7/dist-packages (from anndata==0.8.0) (21.3)\n",
            "Requirement already satisfied: natsort in /usr/local/lib/python3.7/dist-packages (from anndata==0.8.0) (5.5.0)\n",
            "Requirement already satisfied: importlib_metadata>=0.7 in /usr/local/lib/python3.7/dist-packages (from anndata==0.8.0) (5.0.0)\n",
            "Requirement already satisfied: pandas>=1.1.1 in /usr/local/lib/python3.7/dist-packages (from anndata==0.8.0) (1.1.4)\n",
            "Collecting h5py>=3\n",
            "  Downloading h5py-3.7.0-cp37-cp37m-manylinux_2_12_x86_64.manylinux2010_x86_64.whl (4.1 MB)\n",
            "\u001b[K     |████████████████████████████████| 4.1 MB 5.2 MB/s \n",
            "\u001b[?25hRequirement already satisfied: scipy>1.4 in /usr/local/lib/python3.7/dist-packages (from anndata==0.8.0) (1.7.3)\n",
            "Requirement already satisfied: zipp>=0.5 in /usr/local/lib/python3.7/dist-packages (from importlib_metadata>=0.7->anndata==0.8.0) (3.8.1)\n",
            "Requirement already satisfied: pyparsing!=3.0.5,>=2.0.2 in /usr/local/lib/python3.7/dist-packages (from packaging>=20->anndata==0.8.0) (3.0.9)\n",
            "Requirement already satisfied: pytz>=2017.2 in /usr/local/lib/python3.7/dist-packages (from pandas>=1.1.1->anndata==0.8.0) (2022.4)\n",
            "Requirement already satisfied: python-dateutil>=2.7.3 in /usr/local/lib/python3.7/dist-packages (from pandas>=1.1.1->anndata==0.8.0) (2.8.2)\n",
            "Requirement already satisfied: six>=1.5 in /usr/local/lib/python3.7/dist-packages (from python-dateutil>=2.7.3->pandas>=1.1.1->anndata==0.8.0) (1.15.0)\n",
            "Installing collected packages: h5py, anndata\n",
            "  Attempting uninstall: h5py\n",
            "    Found existing installation: h5py 2.10.0\n",
            "    Uninstalling h5py-2.10.0:\n",
            "      Successfully uninstalled h5py-2.10.0\n",
            "  Attempting uninstall: anndata\n",
            "    Found existing installation: anndata 0.7.8\n",
            "    Uninstalling anndata-0.7.8:\n",
            "      Successfully uninstalled anndata-0.7.8\n",
            "\u001b[31mERROR: pip's dependency resolver does not currently take into account all the packages that are installed. This behaviour is the source of the following dependency conflicts.\n",
            "tensorflow 2.8.2+zzzcolab20220929150707 requires numpy>=1.20, but you have numpy 1.19.5 which is incompatible.\n",
            "cellphonedb 3.1.0 requires h5py<3.0.0, but you have h5py 3.7.0 which is incompatible.\u001b[0m\n",
            "Successfully installed anndata-0.8.0 h5py-3.7.0\n"
          ]
        },
        {
          "output_type": "display_data",
          "data": {
            "application/vnd.colab-display-data+json": {
              "pip_warning": {
                "packages": [
                  "h5py"
                ]
              }
            }
          },
          "metadata": {}
        }
      ]
    },
    {
      "cell_type": "code",
      "source": [
        "import anndata as ad"
      ],
      "metadata": {
        "id": "9qClt8SZjCc-"
      },
      "execution_count": null,
      "outputs": []
    },
    {
      "cell_type": "code",
      "source": [
        "ad.__version__"
      ],
      "metadata": {
        "colab": {
          "base_uri": "https://localhost:8080/",
          "height": 37
        },
        "id": "yI9IyE5ajEie",
        "outputId": "81cd73f9-63ed-4e1c-8522-de6cbf589a68"
      },
      "execution_count": null,
      "outputs": [
        {
          "output_type": "execute_result",
          "data": {
            "text/plain": [
              "'0.8.0'"
            ],
            "application/vnd.google.colaboratory.intrinsic+json": {
              "type": "string"
            }
          },
          "metadata": {},
          "execution_count": 3
        }
      ]
    },
    {
      "cell_type": "code",
      "source": [
        "adata = ad.read('/mntDrive/MyDrive/Capstone/Data_Science_Capstone_Fall_2022/raw_data/Pasca_scRNAseq/inter/pasca.log1p_liger_med_singleR_noglyc.h5ad')"
      ],
      "metadata": {
        "id": "A72VV6IoZXqd"
      },
      "execution_count": null,
      "outputs": []
    },
    {
      "cell_type": "code",
      "source": [
        "adata"
      ],
      "metadata": {
        "id": "Vbpd-U5AaRpY",
        "colab": {
          "base_uri": "https://localhost:8080/"
        },
        "outputId": "25660f86-f5ca-4d40-fa1d-91901c400401"
      },
      "execution_count": null,
      "outputs": [
        {
          "output_type": "execute_result",
          "data": {
            "text/plain": [
              "AnnData object with n_obs × n_vars = 45214 × 25392\n",
              "    obs: 'batch', 'condition', 'sampleID', 'n_genes_by_counts', 'total_counts', 'total_counts_mt', 'pct_counts_mt', 'n_counts_ribo_p', 'percent_ribo_p', 'sf', 'leiden', 'nowakowski_med'\n",
              "    var: 'gene_ids', 'feature_types', 'mt', 'n_cells_by_counts', 'mean_counts', 'pct_dropout_by_counts', 'total_counts', 'n_cells'\n",
              "    uns: 'batch_colors', 'condition_colors', 'leiden', 'log1p', 'neighbors', 'umap'\n",
              "    obsm: 'X_liger', 'X_umap'\n",
              "    layers: 'counts', 'sf'\n",
              "    obsp: 'connectivities', 'distances'"
            ]
          },
          "metadata": {},
          "execution_count": 6
        }
      ]
    },
    {
      "cell_type": "code",
      "source": [
        "#convert counts layer into dataframe --  needed in txt for CellphoneDB\n",
        "## Expected format: rows are genes, columns are cells with IDs // recommended to be normalized prior to use in CellPhoneDB\n",
        "\n",
        "counts_df = adata.to_df(layer=\"counts\")\n",
        "counts_df.head()"
      ],
      "metadata": {
        "colab": {
          "base_uri": "https://localhost:8080/",
          "height": 399
        },
        "id": "zg8E6RXybPRV",
        "outputId": "b1b79dc9-4fea-4701-cb11-d2825f3634e1"
      },
      "execution_count": null,
      "outputs": [
        {
          "output_type": "execute_result",
          "data": {
            "text/plain": [
              "                      MIR1302-2HG  AL627309.1  AL627309.3  AL732372.1  \\\n",
              "AAACCTGAGCTCAACT-1-0          0.0         0.0         0.0         0.0   \n",
              "AAACCTGAGGAATGGA-1-0          0.0         0.0         0.0         0.0   \n",
              "AAACCTGAGTCGCCGT-1-0          0.0         0.0         0.0         0.0   \n",
              "AAACCTGAGTCTCCTC-1-0          0.0         0.0         0.0         0.0   \n",
              "AAACCTGAGTGCCATT-1-0          0.0         0.0         0.0         0.0   \n",
              "\n",
              "                      AL669831.5  FAM87B  LINC00115  FAM41C  AL645608.7  \\\n",
              "AAACCTGAGCTCAACT-1-0         0.0     0.0        0.0     0.0         0.0   \n",
              "AAACCTGAGGAATGGA-1-0         0.0     0.0        0.0     0.0         0.0   \n",
              "AAACCTGAGTCGCCGT-1-0         0.0     0.0        0.0     0.0         0.0   \n",
              "AAACCTGAGTCTCCTC-1-0         0.0     0.0        0.0     0.0         0.0   \n",
              "AAACCTGAGTGCCATT-1-0         0.0     0.0        0.0     0.0         0.0   \n",
              "\n",
              "                      AL645608.3  ...  MAFIP  AC011043.1  AL592183.1  \\\n",
              "AAACCTGAGCTCAACT-1-0         2.0  ...    0.0         0.0         0.0   \n",
              "AAACCTGAGGAATGGA-1-0         0.0  ...    0.0         0.0         0.0   \n",
              "AAACCTGAGTCGCCGT-1-0         0.0  ...    0.0         0.0         0.0   \n",
              "AAACCTGAGTCTCCTC-1-0         0.0  ...    0.0         0.0         0.0   \n",
              "AAACCTGAGTGCCATT-1-0         0.0  ...    0.0         1.0         0.0   \n",
              "\n",
              "                      AC007325.4  AC007325.2  BX072566.1  AC023491.2  \\\n",
              "AAACCTGAGCTCAACT-1-0         0.0         0.0         0.0         0.0   \n",
              "AAACCTGAGGAATGGA-1-0         0.0         0.0         0.0         0.0   \n",
              "AAACCTGAGTCGCCGT-1-0         0.0         0.0         0.0         0.0   \n",
              "AAACCTGAGTCTCCTC-1-0         0.0         0.0         0.0         0.0   \n",
              "AAACCTGAGTGCCATT-1-0         1.0         0.0         0.0         0.0   \n",
              "\n",
              "                      AC004556.1  AC240274.1  FAM231C  \n",
              "AAACCTGAGCTCAACT-1-0         0.0         0.0      0.0  \n",
              "AAACCTGAGGAATGGA-1-0         0.0         0.0      0.0  \n",
              "AAACCTGAGTCGCCGT-1-0         0.0         0.0      0.0  \n",
              "AAACCTGAGTCTCCTC-1-0         0.0         0.0      0.0  \n",
              "AAACCTGAGTGCCATT-1-0         0.0         0.0      0.0  \n",
              "\n",
              "[5 rows x 25392 columns]"
            ],
            "text/html": [
              "\n",
              "  <div id=\"df-3c23ebe3-8492-4ca9-8c0d-4441a16a2b06\">\n",
              "    <div class=\"colab-df-container\">\n",
              "      <div>\n",
              "<style scoped>\n",
              "    .dataframe tbody tr th:only-of-type {\n",
              "        vertical-align: middle;\n",
              "    }\n",
              "\n",
              "    .dataframe tbody tr th {\n",
              "        vertical-align: top;\n",
              "    }\n",
              "\n",
              "    .dataframe thead th {\n",
              "        text-align: right;\n",
              "    }\n",
              "</style>\n",
              "<table border=\"1\" class=\"dataframe\">\n",
              "  <thead>\n",
              "    <tr style=\"text-align: right;\">\n",
              "      <th></th>\n",
              "      <th>MIR1302-2HG</th>\n",
              "      <th>AL627309.1</th>\n",
              "      <th>AL627309.3</th>\n",
              "      <th>AL732372.1</th>\n",
              "      <th>AL669831.5</th>\n",
              "      <th>FAM87B</th>\n",
              "      <th>LINC00115</th>\n",
              "      <th>FAM41C</th>\n",
              "      <th>AL645608.7</th>\n",
              "      <th>AL645608.3</th>\n",
              "      <th>...</th>\n",
              "      <th>MAFIP</th>\n",
              "      <th>AC011043.1</th>\n",
              "      <th>AL592183.1</th>\n",
              "      <th>AC007325.4</th>\n",
              "      <th>AC007325.2</th>\n",
              "      <th>BX072566.1</th>\n",
              "      <th>AC023491.2</th>\n",
              "      <th>AC004556.1</th>\n",
              "      <th>AC240274.1</th>\n",
              "      <th>FAM231C</th>\n",
              "    </tr>\n",
              "  </thead>\n",
              "  <tbody>\n",
              "    <tr>\n",
              "      <th>AAACCTGAGCTCAACT-1-0</th>\n",
              "      <td>0.0</td>\n",
              "      <td>0.0</td>\n",
              "      <td>0.0</td>\n",
              "      <td>0.0</td>\n",
              "      <td>0.0</td>\n",
              "      <td>0.0</td>\n",
              "      <td>0.0</td>\n",
              "      <td>0.0</td>\n",
              "      <td>0.0</td>\n",
              "      <td>2.0</td>\n",
              "      <td>...</td>\n",
              "      <td>0.0</td>\n",
              "      <td>0.0</td>\n",
              "      <td>0.0</td>\n",
              "      <td>0.0</td>\n",
              "      <td>0.0</td>\n",
              "      <td>0.0</td>\n",
              "      <td>0.0</td>\n",
              "      <td>0.0</td>\n",
              "      <td>0.0</td>\n",
              "      <td>0.0</td>\n",
              "    </tr>\n",
              "    <tr>\n",
              "      <th>AAACCTGAGGAATGGA-1-0</th>\n",
              "      <td>0.0</td>\n",
              "      <td>0.0</td>\n",
              "      <td>0.0</td>\n",
              "      <td>0.0</td>\n",
              "      <td>0.0</td>\n",
              "      <td>0.0</td>\n",
              "      <td>0.0</td>\n",
              "      <td>0.0</td>\n",
              "      <td>0.0</td>\n",
              "      <td>0.0</td>\n",
              "      <td>...</td>\n",
              "      <td>0.0</td>\n",
              "      <td>0.0</td>\n",
              "      <td>0.0</td>\n",
              "      <td>0.0</td>\n",
              "      <td>0.0</td>\n",
              "      <td>0.0</td>\n",
              "      <td>0.0</td>\n",
              "      <td>0.0</td>\n",
              "      <td>0.0</td>\n",
              "      <td>0.0</td>\n",
              "    </tr>\n",
              "    <tr>\n",
              "      <th>AAACCTGAGTCGCCGT-1-0</th>\n",
              "      <td>0.0</td>\n",
              "      <td>0.0</td>\n",
              "      <td>0.0</td>\n",
              "      <td>0.0</td>\n",
              "      <td>0.0</td>\n",
              "      <td>0.0</td>\n",
              "      <td>0.0</td>\n",
              "      <td>0.0</td>\n",
              "      <td>0.0</td>\n",
              "      <td>0.0</td>\n",
              "      <td>...</td>\n",
              "      <td>0.0</td>\n",
              "      <td>0.0</td>\n",
              "      <td>0.0</td>\n",
              "      <td>0.0</td>\n",
              "      <td>0.0</td>\n",
              "      <td>0.0</td>\n",
              "      <td>0.0</td>\n",
              "      <td>0.0</td>\n",
              "      <td>0.0</td>\n",
              "      <td>0.0</td>\n",
              "    </tr>\n",
              "    <tr>\n",
              "      <th>AAACCTGAGTCTCCTC-1-0</th>\n",
              "      <td>0.0</td>\n",
              "      <td>0.0</td>\n",
              "      <td>0.0</td>\n",
              "      <td>0.0</td>\n",
              "      <td>0.0</td>\n",
              "      <td>0.0</td>\n",
              "      <td>0.0</td>\n",
              "      <td>0.0</td>\n",
              "      <td>0.0</td>\n",
              "      <td>0.0</td>\n",
              "      <td>...</td>\n",
              "      <td>0.0</td>\n",
              "      <td>0.0</td>\n",
              "      <td>0.0</td>\n",
              "      <td>0.0</td>\n",
              "      <td>0.0</td>\n",
              "      <td>0.0</td>\n",
              "      <td>0.0</td>\n",
              "      <td>0.0</td>\n",
              "      <td>0.0</td>\n",
              "      <td>0.0</td>\n",
              "    </tr>\n",
              "    <tr>\n",
              "      <th>AAACCTGAGTGCCATT-1-0</th>\n",
              "      <td>0.0</td>\n",
              "      <td>0.0</td>\n",
              "      <td>0.0</td>\n",
              "      <td>0.0</td>\n",
              "      <td>0.0</td>\n",
              "      <td>0.0</td>\n",
              "      <td>0.0</td>\n",
              "      <td>0.0</td>\n",
              "      <td>0.0</td>\n",
              "      <td>0.0</td>\n",
              "      <td>...</td>\n",
              "      <td>0.0</td>\n",
              "      <td>1.0</td>\n",
              "      <td>0.0</td>\n",
              "      <td>1.0</td>\n",
              "      <td>0.0</td>\n",
              "      <td>0.0</td>\n",
              "      <td>0.0</td>\n",
              "      <td>0.0</td>\n",
              "      <td>0.0</td>\n",
              "      <td>0.0</td>\n",
              "    </tr>\n",
              "  </tbody>\n",
              "</table>\n",
              "<p>5 rows × 25392 columns</p>\n",
              "</div>\n",
              "      <button class=\"colab-df-convert\" onclick=\"convertToInteractive('df-3c23ebe3-8492-4ca9-8c0d-4441a16a2b06')\"\n",
              "              title=\"Convert this dataframe to an interactive table.\"\n",
              "              style=\"display:none;\">\n",
              "        \n",
              "  <svg xmlns=\"http://www.w3.org/2000/svg\" height=\"24px\"viewBox=\"0 0 24 24\"\n",
              "       width=\"24px\">\n",
              "    <path d=\"M0 0h24v24H0V0z\" fill=\"none\"/>\n",
              "    <path d=\"M18.56 5.44l.94 2.06.94-2.06 2.06-.94-2.06-.94-.94-2.06-.94 2.06-2.06.94zm-11 1L8.5 8.5l.94-2.06 2.06-.94-2.06-.94L8.5 2.5l-.94 2.06-2.06.94zm10 10l.94 2.06.94-2.06 2.06-.94-2.06-.94-.94-2.06-.94 2.06-2.06.94z\"/><path d=\"M17.41 7.96l-1.37-1.37c-.4-.4-.92-.59-1.43-.59-.52 0-1.04.2-1.43.59L10.3 9.45l-7.72 7.72c-.78.78-.78 2.05 0 2.83L4 21.41c.39.39.9.59 1.41.59.51 0 1.02-.2 1.41-.59l7.78-7.78 2.81-2.81c.8-.78.8-2.07 0-2.86zM5.41 20L4 18.59l7.72-7.72 1.47 1.35L5.41 20z\"/>\n",
              "  </svg>\n",
              "      </button>\n",
              "      \n",
              "  <style>\n",
              "    .colab-df-container {\n",
              "      display:flex;\n",
              "      flex-wrap:wrap;\n",
              "      gap: 12px;\n",
              "    }\n",
              "\n",
              "    .colab-df-convert {\n",
              "      background-color: #E8F0FE;\n",
              "      border: none;\n",
              "      border-radius: 50%;\n",
              "      cursor: pointer;\n",
              "      display: none;\n",
              "      fill: #1967D2;\n",
              "      height: 32px;\n",
              "      padding: 0 0 0 0;\n",
              "      width: 32px;\n",
              "    }\n",
              "\n",
              "    .colab-df-convert:hover {\n",
              "      background-color: #E2EBFA;\n",
              "      box-shadow: 0px 1px 2px rgba(60, 64, 67, 0.3), 0px 1px 3px 1px rgba(60, 64, 67, 0.15);\n",
              "      fill: #174EA6;\n",
              "    }\n",
              "\n",
              "    [theme=dark] .colab-df-convert {\n",
              "      background-color: #3B4455;\n",
              "      fill: #D2E3FC;\n",
              "    }\n",
              "\n",
              "    [theme=dark] .colab-df-convert:hover {\n",
              "      background-color: #434B5C;\n",
              "      box-shadow: 0px 1px 3px 1px rgba(0, 0, 0, 0.15);\n",
              "      filter: drop-shadow(0px 1px 2px rgba(0, 0, 0, 0.3));\n",
              "      fill: #FFFFFF;\n",
              "    }\n",
              "  </style>\n",
              "\n",
              "      <script>\n",
              "        const buttonEl =\n",
              "          document.querySelector('#df-3c23ebe3-8492-4ca9-8c0d-4441a16a2b06 button.colab-df-convert');\n",
              "        buttonEl.style.display =\n",
              "          google.colab.kernel.accessAllowed ? 'block' : 'none';\n",
              "\n",
              "        async function convertToInteractive(key) {\n",
              "          const element = document.querySelector('#df-3c23ebe3-8492-4ca9-8c0d-4441a16a2b06');\n",
              "          const dataTable =\n",
              "            await google.colab.kernel.invokeFunction('convertToInteractive',\n",
              "                                                     [key], {});\n",
              "          if (!dataTable) return;\n",
              "\n",
              "          const docLinkHtml = 'Like what you see? Visit the ' +\n",
              "            '<a target=\"_blank\" href=https://colab.research.google.com/notebooks/data_table.ipynb>data table notebook</a>'\n",
              "            + ' to learn more about interactive tables.';\n",
              "          element.innerHTML = '';\n",
              "          dataTable['output_type'] = 'display_data';\n",
              "          await google.colab.output.renderOutput(dataTable, element);\n",
              "          const docLink = document.createElement('div');\n",
              "          docLink.innerHTML = docLinkHtml;\n",
              "          element.appendChild(docLink);\n",
              "        }\n",
              "      </script>\n",
              "    </div>\n",
              "  </div>\n",
              "  "
            ]
          },
          "metadata": {},
          "execution_count": 7
        }
      ]
    },
    {
      "cell_type": "code",
      "source": [
        "#transpose counts & save intermediate counts file\n",
        "counts_data = counts_df.transpose()\n",
        "\n",
        "counts_data.head()"
      ],
      "metadata": {
        "colab": {
          "base_uri": "https://localhost:8080/",
          "height": 331
        },
        "id": "DGa5pGdsxlXk",
        "outputId": "29476074-2363-468f-d0b6-15768c5fd319"
      },
      "execution_count": null,
      "outputs": [
        {
          "output_type": "execute_result",
          "data": {
            "text/plain": [
              "             AAACCTGAGCTCAACT-1-0  AAACCTGAGGAATGGA-1-0  AAACCTGAGTCGCCGT-1-0  \\\n",
              "MIR1302-2HG                   0.0                   0.0                   0.0   \n",
              "AL627309.1                    0.0                   0.0                   0.0   \n",
              "AL627309.3                    0.0                   0.0                   0.0   \n",
              "AL732372.1                    0.0                   0.0                   0.0   \n",
              "AL669831.5                    0.0                   0.0                   0.0   \n",
              "\n",
              "             AAACCTGAGTCTCCTC-1-0  AAACCTGAGTGCCATT-1-0  AAACCTGCAACTGCGC-1-0  \\\n",
              "MIR1302-2HG                   0.0                   0.0                   0.0   \n",
              "AL627309.1                    0.0                   0.0                   0.0   \n",
              "AL627309.3                    0.0                   0.0                   0.0   \n",
              "AL732372.1                    0.0                   0.0                   0.0   \n",
              "AL669831.5                    0.0                   0.0                   0.0   \n",
              "\n",
              "             AAACCTGCAAGTCTAC-1-0  AAACCTGCAATGCCAT-1-0  AAACCTGCATGCCTAA-1-0  \\\n",
              "MIR1302-2HG                   0.0                   0.0                   0.0   \n",
              "AL627309.1                    0.0                   0.0                   0.0   \n",
              "AL627309.3                    0.0                   0.0                   0.0   \n",
              "AL732372.1                    0.0                   0.0                   0.0   \n",
              "AL669831.5                    0.0                   0.0                   0.0   \n",
              "\n",
              "             AAACCTGCATGCGCAC-1-0  ...  TTTGTCATCAACACGT-1-3  \\\n",
              "MIR1302-2HG                   0.0  ...                   0.0   \n",
              "AL627309.1                    0.0  ...                   0.0   \n",
              "AL627309.3                    0.0  ...                   0.0   \n",
              "AL732372.1                    0.0  ...                   0.0   \n",
              "AL669831.5                    0.0  ...                   0.0   \n",
              "\n",
              "             TTTGTCATCACGATGT-1-3  TTTGTCATCACGGTTA-1-3  TTTGTCATCATCGGAT-1-3  \\\n",
              "MIR1302-2HG                   0.0                   0.0                   0.0   \n",
              "AL627309.1                    0.0                   0.0                   0.0   \n",
              "AL627309.3                    0.0                   0.0                   0.0   \n",
              "AL732372.1                    0.0                   0.0                   0.0   \n",
              "AL669831.5                    0.0                   0.0                   0.0   \n",
              "\n",
              "             TTTGTCATCCCGACTT-1-3  TTTGTCATCGCAAACT-1-3  TTTGTCATCGTAGATC-1-3  \\\n",
              "MIR1302-2HG                   0.0                   0.0                   0.0   \n",
              "AL627309.1                    0.0                   0.0                   0.0   \n",
              "AL627309.3                    0.0                   0.0                   0.0   \n",
              "AL732372.1                    0.0                   0.0                   0.0   \n",
              "AL669831.5                    0.0                   0.0                   0.0   \n",
              "\n",
              "             TTTGTCATCGTAGGAG-1-3  TTTGTCATCTAACTTC-1-3  TTTGTCATCTTGCCGT-1-3  \n",
              "MIR1302-2HG                   0.0                   0.0                   0.0  \n",
              "AL627309.1                    0.0                   0.0                   0.0  \n",
              "AL627309.3                    0.0                   0.0                   0.0  \n",
              "AL732372.1                    0.0                   0.0                   0.0  \n",
              "AL669831.5                    0.0                   0.0                   0.0  \n",
              "\n",
              "[5 rows x 45214 columns]"
            ],
            "text/html": [
              "\n",
              "  <div id=\"df-94295511-8d3b-48c2-a253-2d1a1f45ce6c\">\n",
              "    <div class=\"colab-df-container\">\n",
              "      <div>\n",
              "<style scoped>\n",
              "    .dataframe tbody tr th:only-of-type {\n",
              "        vertical-align: middle;\n",
              "    }\n",
              "\n",
              "    .dataframe tbody tr th {\n",
              "        vertical-align: top;\n",
              "    }\n",
              "\n",
              "    .dataframe thead th {\n",
              "        text-align: right;\n",
              "    }\n",
              "</style>\n",
              "<table border=\"1\" class=\"dataframe\">\n",
              "  <thead>\n",
              "    <tr style=\"text-align: right;\">\n",
              "      <th></th>\n",
              "      <th>AAACCTGAGCTCAACT-1-0</th>\n",
              "      <th>AAACCTGAGGAATGGA-1-0</th>\n",
              "      <th>AAACCTGAGTCGCCGT-1-0</th>\n",
              "      <th>AAACCTGAGTCTCCTC-1-0</th>\n",
              "      <th>AAACCTGAGTGCCATT-1-0</th>\n",
              "      <th>AAACCTGCAACTGCGC-1-0</th>\n",
              "      <th>AAACCTGCAAGTCTAC-1-0</th>\n",
              "      <th>AAACCTGCAATGCCAT-1-0</th>\n",
              "      <th>AAACCTGCATGCCTAA-1-0</th>\n",
              "      <th>AAACCTGCATGCGCAC-1-0</th>\n",
              "      <th>...</th>\n",
              "      <th>TTTGTCATCAACACGT-1-3</th>\n",
              "      <th>TTTGTCATCACGATGT-1-3</th>\n",
              "      <th>TTTGTCATCACGGTTA-1-3</th>\n",
              "      <th>TTTGTCATCATCGGAT-1-3</th>\n",
              "      <th>TTTGTCATCCCGACTT-1-3</th>\n",
              "      <th>TTTGTCATCGCAAACT-1-3</th>\n",
              "      <th>TTTGTCATCGTAGATC-1-3</th>\n",
              "      <th>TTTGTCATCGTAGGAG-1-3</th>\n",
              "      <th>TTTGTCATCTAACTTC-1-3</th>\n",
              "      <th>TTTGTCATCTTGCCGT-1-3</th>\n",
              "    </tr>\n",
              "  </thead>\n",
              "  <tbody>\n",
              "    <tr>\n",
              "      <th>MIR1302-2HG</th>\n",
              "      <td>0.0</td>\n",
              "      <td>0.0</td>\n",
              "      <td>0.0</td>\n",
              "      <td>0.0</td>\n",
              "      <td>0.0</td>\n",
              "      <td>0.0</td>\n",
              "      <td>0.0</td>\n",
              "      <td>0.0</td>\n",
              "      <td>0.0</td>\n",
              "      <td>0.0</td>\n",
              "      <td>...</td>\n",
              "      <td>0.0</td>\n",
              "      <td>0.0</td>\n",
              "      <td>0.0</td>\n",
              "      <td>0.0</td>\n",
              "      <td>0.0</td>\n",
              "      <td>0.0</td>\n",
              "      <td>0.0</td>\n",
              "      <td>0.0</td>\n",
              "      <td>0.0</td>\n",
              "      <td>0.0</td>\n",
              "    </tr>\n",
              "    <tr>\n",
              "      <th>AL627309.1</th>\n",
              "      <td>0.0</td>\n",
              "      <td>0.0</td>\n",
              "      <td>0.0</td>\n",
              "      <td>0.0</td>\n",
              "      <td>0.0</td>\n",
              "      <td>0.0</td>\n",
              "      <td>0.0</td>\n",
              "      <td>0.0</td>\n",
              "      <td>0.0</td>\n",
              "      <td>0.0</td>\n",
              "      <td>...</td>\n",
              "      <td>0.0</td>\n",
              "      <td>0.0</td>\n",
              "      <td>0.0</td>\n",
              "      <td>0.0</td>\n",
              "      <td>0.0</td>\n",
              "      <td>0.0</td>\n",
              "      <td>0.0</td>\n",
              "      <td>0.0</td>\n",
              "      <td>0.0</td>\n",
              "      <td>0.0</td>\n",
              "    </tr>\n",
              "    <tr>\n",
              "      <th>AL627309.3</th>\n",
              "      <td>0.0</td>\n",
              "      <td>0.0</td>\n",
              "      <td>0.0</td>\n",
              "      <td>0.0</td>\n",
              "      <td>0.0</td>\n",
              "      <td>0.0</td>\n",
              "      <td>0.0</td>\n",
              "      <td>0.0</td>\n",
              "      <td>0.0</td>\n",
              "      <td>0.0</td>\n",
              "      <td>...</td>\n",
              "      <td>0.0</td>\n",
              "      <td>0.0</td>\n",
              "      <td>0.0</td>\n",
              "      <td>0.0</td>\n",
              "      <td>0.0</td>\n",
              "      <td>0.0</td>\n",
              "      <td>0.0</td>\n",
              "      <td>0.0</td>\n",
              "      <td>0.0</td>\n",
              "      <td>0.0</td>\n",
              "    </tr>\n",
              "    <tr>\n",
              "      <th>AL732372.1</th>\n",
              "      <td>0.0</td>\n",
              "      <td>0.0</td>\n",
              "      <td>0.0</td>\n",
              "      <td>0.0</td>\n",
              "      <td>0.0</td>\n",
              "      <td>0.0</td>\n",
              "      <td>0.0</td>\n",
              "      <td>0.0</td>\n",
              "      <td>0.0</td>\n",
              "      <td>0.0</td>\n",
              "      <td>...</td>\n",
              "      <td>0.0</td>\n",
              "      <td>0.0</td>\n",
              "      <td>0.0</td>\n",
              "      <td>0.0</td>\n",
              "      <td>0.0</td>\n",
              "      <td>0.0</td>\n",
              "      <td>0.0</td>\n",
              "      <td>0.0</td>\n",
              "      <td>0.0</td>\n",
              "      <td>0.0</td>\n",
              "    </tr>\n",
              "    <tr>\n",
              "      <th>AL669831.5</th>\n",
              "      <td>0.0</td>\n",
              "      <td>0.0</td>\n",
              "      <td>0.0</td>\n",
              "      <td>0.0</td>\n",
              "      <td>0.0</td>\n",
              "      <td>0.0</td>\n",
              "      <td>0.0</td>\n",
              "      <td>0.0</td>\n",
              "      <td>0.0</td>\n",
              "      <td>0.0</td>\n",
              "      <td>...</td>\n",
              "      <td>0.0</td>\n",
              "      <td>0.0</td>\n",
              "      <td>0.0</td>\n",
              "      <td>0.0</td>\n",
              "      <td>0.0</td>\n",
              "      <td>0.0</td>\n",
              "      <td>0.0</td>\n",
              "      <td>0.0</td>\n",
              "      <td>0.0</td>\n",
              "      <td>0.0</td>\n",
              "    </tr>\n",
              "  </tbody>\n",
              "</table>\n",
              "<p>5 rows × 45214 columns</p>\n",
              "</div>\n",
              "      <button class=\"colab-df-convert\" onclick=\"convertToInteractive('df-94295511-8d3b-48c2-a253-2d1a1f45ce6c')\"\n",
              "              title=\"Convert this dataframe to an interactive table.\"\n",
              "              style=\"display:none;\">\n",
              "        \n",
              "  <svg xmlns=\"http://www.w3.org/2000/svg\" height=\"24px\"viewBox=\"0 0 24 24\"\n",
              "       width=\"24px\">\n",
              "    <path d=\"M0 0h24v24H0V0z\" fill=\"none\"/>\n",
              "    <path d=\"M18.56 5.44l.94 2.06.94-2.06 2.06-.94-2.06-.94-.94-2.06-.94 2.06-2.06.94zm-11 1L8.5 8.5l.94-2.06 2.06-.94-2.06-.94L8.5 2.5l-.94 2.06-2.06.94zm10 10l.94 2.06.94-2.06 2.06-.94-2.06-.94-.94-2.06-.94 2.06-2.06.94z\"/><path d=\"M17.41 7.96l-1.37-1.37c-.4-.4-.92-.59-1.43-.59-.52 0-1.04.2-1.43.59L10.3 9.45l-7.72 7.72c-.78.78-.78 2.05 0 2.83L4 21.41c.39.39.9.59 1.41.59.51 0 1.02-.2 1.41-.59l7.78-7.78 2.81-2.81c.8-.78.8-2.07 0-2.86zM5.41 20L4 18.59l7.72-7.72 1.47 1.35L5.41 20z\"/>\n",
              "  </svg>\n",
              "      </button>\n",
              "      \n",
              "  <style>\n",
              "    .colab-df-container {\n",
              "      display:flex;\n",
              "      flex-wrap:wrap;\n",
              "      gap: 12px;\n",
              "    }\n",
              "\n",
              "    .colab-df-convert {\n",
              "      background-color: #E8F0FE;\n",
              "      border: none;\n",
              "      border-radius: 50%;\n",
              "      cursor: pointer;\n",
              "      display: none;\n",
              "      fill: #1967D2;\n",
              "      height: 32px;\n",
              "      padding: 0 0 0 0;\n",
              "      width: 32px;\n",
              "    }\n",
              "\n",
              "    .colab-df-convert:hover {\n",
              "      background-color: #E2EBFA;\n",
              "      box-shadow: 0px 1px 2px rgba(60, 64, 67, 0.3), 0px 1px 3px 1px rgba(60, 64, 67, 0.15);\n",
              "      fill: #174EA6;\n",
              "    }\n",
              "\n",
              "    [theme=dark] .colab-df-convert {\n",
              "      background-color: #3B4455;\n",
              "      fill: #D2E3FC;\n",
              "    }\n",
              "\n",
              "    [theme=dark] .colab-df-convert:hover {\n",
              "      background-color: #434B5C;\n",
              "      box-shadow: 0px 1px 3px 1px rgba(0, 0, 0, 0.15);\n",
              "      filter: drop-shadow(0px 1px 2px rgba(0, 0, 0, 0.3));\n",
              "      fill: #FFFFFF;\n",
              "    }\n",
              "  </style>\n",
              "\n",
              "      <script>\n",
              "        const buttonEl =\n",
              "          document.querySelector('#df-94295511-8d3b-48c2-a253-2d1a1f45ce6c button.colab-df-convert');\n",
              "        buttonEl.style.display =\n",
              "          google.colab.kernel.accessAllowed ? 'block' : 'none';\n",
              "\n",
              "        async function convertToInteractive(key) {\n",
              "          const element = document.querySelector('#df-94295511-8d3b-48c2-a253-2d1a1f45ce6c');\n",
              "          const dataTable =\n",
              "            await google.colab.kernel.invokeFunction('convertToInteractive',\n",
              "                                                     [key], {});\n",
              "          if (!dataTable) return;\n",
              "\n",
              "          const docLinkHtml = 'Like what you see? Visit the ' +\n",
              "            '<a target=\"_blank\" href=https://colab.research.google.com/notebooks/data_table.ipynb>data table notebook</a>'\n",
              "            + ' to learn more about interactive tables.';\n",
              "          element.innerHTML = '';\n",
              "          dataTable['output_type'] = 'display_data';\n",
              "          await google.colab.output.renderOutput(dataTable, element);\n",
              "          const docLink = document.createElement('div');\n",
              "          docLink.innerHTML = docLinkHtml;\n",
              "          element.appendChild(docLink);\n",
              "        }\n",
              "      </script>\n",
              "    </div>\n",
              "  </div>\n",
              "  "
            ]
          },
          "metadata": {},
          "execution_count": 8
        }
      ]
    },
    {
      "cell_type": "code",
      "source": [
        "filename = 'counts_data.txt'\n",
        "counts_data.to_csv(os.path.join('/mntDrive/MyDrive/Capstone/', filename), index=False)"
      ],
      "metadata": {
        "id": "O2yPKeDPnkLN"
      },
      "execution_count": null,
      "outputs": []
    },
    {
      "cell_type": "code",
      "source": [
        "meta_nowakowski = pd.DataFrame(adata.obs['nowakowski_med'])\n",
        "meta_nowakowski"
      ],
      "metadata": {
        "colab": {
          "base_uri": "https://localhost:8080/",
          "height": 419
        },
        "id": "1hYXUxLEHMau",
        "outputId": "55bc1b98-ddf6-48b3-ba8d-11a586b788ea"
      },
      "execution_count": null,
      "outputs": [
        {
          "output_type": "execute_result",
          "data": {
            "text/plain": [
              "                     nowakowski_med\n",
              "AAACCTGAGCTCAACT-1-0          EN-V1\n",
              "AAACCTGAGGAATGGA-1-0         IN-STR\n",
              "AAACCTGAGTCGCCGT-1-0        IPC-nEN\n",
              "AAACCTGAGTCTCCTC-1-0       RG-early\n",
              "AAACCTGAGTGCCATT-1-0        IPC-nEN\n",
              "...                             ...\n",
              "TTTGTCATCGCAAACT-1-3        IPC-nEN\n",
              "TTTGTCATCGTAGATC-1-3            vRG\n",
              "TTTGTCATCGTAGGAG-1-3       RG-early\n",
              "TTTGTCATCTAACTTC-1-3        IPC-nEN\n",
              "TTTGTCATCTTGCCGT-1-3       RG-early\n",
              "\n",
              "[45214 rows x 1 columns]"
            ],
            "text/html": [
              "\n",
              "  <div id=\"df-9635d223-c7f3-4b43-9314-3930e6ee3580\">\n",
              "    <div class=\"colab-df-container\">\n",
              "      <div>\n",
              "<style scoped>\n",
              "    .dataframe tbody tr th:only-of-type {\n",
              "        vertical-align: middle;\n",
              "    }\n",
              "\n",
              "    .dataframe tbody tr th {\n",
              "        vertical-align: top;\n",
              "    }\n",
              "\n",
              "    .dataframe thead th {\n",
              "        text-align: right;\n",
              "    }\n",
              "</style>\n",
              "<table border=\"1\" class=\"dataframe\">\n",
              "  <thead>\n",
              "    <tr style=\"text-align: right;\">\n",
              "      <th></th>\n",
              "      <th>nowakowski_med</th>\n",
              "    </tr>\n",
              "  </thead>\n",
              "  <tbody>\n",
              "    <tr>\n",
              "      <th>AAACCTGAGCTCAACT-1-0</th>\n",
              "      <td>EN-V1</td>\n",
              "    </tr>\n",
              "    <tr>\n",
              "      <th>AAACCTGAGGAATGGA-1-0</th>\n",
              "      <td>IN-STR</td>\n",
              "    </tr>\n",
              "    <tr>\n",
              "      <th>AAACCTGAGTCGCCGT-1-0</th>\n",
              "      <td>IPC-nEN</td>\n",
              "    </tr>\n",
              "    <tr>\n",
              "      <th>AAACCTGAGTCTCCTC-1-0</th>\n",
              "      <td>RG-early</td>\n",
              "    </tr>\n",
              "    <tr>\n",
              "      <th>AAACCTGAGTGCCATT-1-0</th>\n",
              "      <td>IPC-nEN</td>\n",
              "    </tr>\n",
              "    <tr>\n",
              "      <th>...</th>\n",
              "      <td>...</td>\n",
              "    </tr>\n",
              "    <tr>\n",
              "      <th>TTTGTCATCGCAAACT-1-3</th>\n",
              "      <td>IPC-nEN</td>\n",
              "    </tr>\n",
              "    <tr>\n",
              "      <th>TTTGTCATCGTAGATC-1-3</th>\n",
              "      <td>vRG</td>\n",
              "    </tr>\n",
              "    <tr>\n",
              "      <th>TTTGTCATCGTAGGAG-1-3</th>\n",
              "      <td>RG-early</td>\n",
              "    </tr>\n",
              "    <tr>\n",
              "      <th>TTTGTCATCTAACTTC-1-3</th>\n",
              "      <td>IPC-nEN</td>\n",
              "    </tr>\n",
              "    <tr>\n",
              "      <th>TTTGTCATCTTGCCGT-1-3</th>\n",
              "      <td>RG-early</td>\n",
              "    </tr>\n",
              "  </tbody>\n",
              "</table>\n",
              "<p>45214 rows × 1 columns</p>\n",
              "</div>\n",
              "      <button class=\"colab-df-convert\" onclick=\"convertToInteractive('df-9635d223-c7f3-4b43-9314-3930e6ee3580')\"\n",
              "              title=\"Convert this dataframe to an interactive table.\"\n",
              "              style=\"display:none;\">\n",
              "        \n",
              "  <svg xmlns=\"http://www.w3.org/2000/svg\" height=\"24px\"viewBox=\"0 0 24 24\"\n",
              "       width=\"24px\">\n",
              "    <path d=\"M0 0h24v24H0V0z\" fill=\"none\"/>\n",
              "    <path d=\"M18.56 5.44l.94 2.06.94-2.06 2.06-.94-2.06-.94-.94-2.06-.94 2.06-2.06.94zm-11 1L8.5 8.5l.94-2.06 2.06-.94-2.06-.94L8.5 2.5l-.94 2.06-2.06.94zm10 10l.94 2.06.94-2.06 2.06-.94-2.06-.94-.94-2.06-.94 2.06-2.06.94z\"/><path d=\"M17.41 7.96l-1.37-1.37c-.4-.4-.92-.59-1.43-.59-.52 0-1.04.2-1.43.59L10.3 9.45l-7.72 7.72c-.78.78-.78 2.05 0 2.83L4 21.41c.39.39.9.59 1.41.59.51 0 1.02-.2 1.41-.59l7.78-7.78 2.81-2.81c.8-.78.8-2.07 0-2.86zM5.41 20L4 18.59l7.72-7.72 1.47 1.35L5.41 20z\"/>\n",
              "  </svg>\n",
              "      </button>\n",
              "      \n",
              "  <style>\n",
              "    .colab-df-container {\n",
              "      display:flex;\n",
              "      flex-wrap:wrap;\n",
              "      gap: 12px;\n",
              "    }\n",
              "\n",
              "    .colab-df-convert {\n",
              "      background-color: #E8F0FE;\n",
              "      border: none;\n",
              "      border-radius: 50%;\n",
              "      cursor: pointer;\n",
              "      display: none;\n",
              "      fill: #1967D2;\n",
              "      height: 32px;\n",
              "      padding: 0 0 0 0;\n",
              "      width: 32px;\n",
              "    }\n",
              "\n",
              "    .colab-df-convert:hover {\n",
              "      background-color: #E2EBFA;\n",
              "      box-shadow: 0px 1px 2px rgba(60, 64, 67, 0.3), 0px 1px 3px 1px rgba(60, 64, 67, 0.15);\n",
              "      fill: #174EA6;\n",
              "    }\n",
              "\n",
              "    [theme=dark] .colab-df-convert {\n",
              "      background-color: #3B4455;\n",
              "      fill: #D2E3FC;\n",
              "    }\n",
              "\n",
              "    [theme=dark] .colab-df-convert:hover {\n",
              "      background-color: #434B5C;\n",
              "      box-shadow: 0px 1px 3px 1px rgba(0, 0, 0, 0.15);\n",
              "      filter: drop-shadow(0px 1px 2px rgba(0, 0, 0, 0.3));\n",
              "      fill: #FFFFFF;\n",
              "    }\n",
              "  </style>\n",
              "\n",
              "      <script>\n",
              "        const buttonEl =\n",
              "          document.querySelector('#df-9635d223-c7f3-4b43-9314-3930e6ee3580 button.colab-df-convert');\n",
              "        buttonEl.style.display =\n",
              "          google.colab.kernel.accessAllowed ? 'block' : 'none';\n",
              "\n",
              "        async function convertToInteractive(key) {\n",
              "          const element = document.querySelector('#df-9635d223-c7f3-4b43-9314-3930e6ee3580');\n",
              "          const dataTable =\n",
              "            await google.colab.kernel.invokeFunction('convertToInteractive',\n",
              "                                                     [key], {});\n",
              "          if (!dataTable) return;\n",
              "\n",
              "          const docLinkHtml = 'Like what you see? Visit the ' +\n",
              "            '<a target=\"_blank\" href=https://colab.research.google.com/notebooks/data_table.ipynb>data table notebook</a>'\n",
              "            + ' to learn more about interactive tables.';\n",
              "          element.innerHTML = '';\n",
              "          dataTable['output_type'] = 'display_data';\n",
              "          await google.colab.output.renderOutput(dataTable, element);\n",
              "          const docLink = document.createElement('div');\n",
              "          docLink.innerHTML = docLinkHtml;\n",
              "          element.appendChild(docLink);\n",
              "        }\n",
              "      </script>\n",
              "    </div>\n",
              "  </div>\n",
              "  "
            ]
          },
          "metadata": {},
          "execution_count": 22
        }
      ]
    },
    {
      "cell_type": "code",
      "source": [
        "meta_nowakowski = meta_nowakowski.reset_index().rename(columns={'index': 'Cell', 'nowakowski_med':'cell_type'})\n",
        "meta_nowakowski.head()"
      ],
      "metadata": {
        "colab": {
          "base_uri": "https://localhost:8080/",
          "height": 204
        },
        "id": "6JJdvNMvH_cT",
        "outputId": "e728402c-b938-40a1-b084-2ef723b4aa7b"
      },
      "execution_count": null,
      "outputs": [
        {
          "output_type": "execute_result",
          "data": {
            "text/plain": [
              "                   Cell cell_type\n",
              "0  AAACCTGAGCTCAACT-1-0     EN-V1\n",
              "1  AAACCTGAGGAATGGA-1-0    IN-STR\n",
              "2  AAACCTGAGTCGCCGT-1-0   IPC-nEN\n",
              "3  AAACCTGAGTCTCCTC-1-0  RG-early\n",
              "4  AAACCTGAGTGCCATT-1-0   IPC-nEN"
            ],
            "text/html": [
              "\n",
              "  <div id=\"df-92e642e7-59ca-4b52-8a7c-c5989b71c956\">\n",
              "    <div class=\"colab-df-container\">\n",
              "      <div>\n",
              "<style scoped>\n",
              "    .dataframe tbody tr th:only-of-type {\n",
              "        vertical-align: middle;\n",
              "    }\n",
              "\n",
              "    .dataframe tbody tr th {\n",
              "        vertical-align: top;\n",
              "    }\n",
              "\n",
              "    .dataframe thead th {\n",
              "        text-align: right;\n",
              "    }\n",
              "</style>\n",
              "<table border=\"1\" class=\"dataframe\">\n",
              "  <thead>\n",
              "    <tr style=\"text-align: right;\">\n",
              "      <th></th>\n",
              "      <th>Cell</th>\n",
              "      <th>cell_type</th>\n",
              "    </tr>\n",
              "  </thead>\n",
              "  <tbody>\n",
              "    <tr>\n",
              "      <th>0</th>\n",
              "      <td>AAACCTGAGCTCAACT-1-0</td>\n",
              "      <td>EN-V1</td>\n",
              "    </tr>\n",
              "    <tr>\n",
              "      <th>1</th>\n",
              "      <td>AAACCTGAGGAATGGA-1-0</td>\n",
              "      <td>IN-STR</td>\n",
              "    </tr>\n",
              "    <tr>\n",
              "      <th>2</th>\n",
              "      <td>AAACCTGAGTCGCCGT-1-0</td>\n",
              "      <td>IPC-nEN</td>\n",
              "    </tr>\n",
              "    <tr>\n",
              "      <th>3</th>\n",
              "      <td>AAACCTGAGTCTCCTC-1-0</td>\n",
              "      <td>RG-early</td>\n",
              "    </tr>\n",
              "    <tr>\n",
              "      <th>4</th>\n",
              "      <td>AAACCTGAGTGCCATT-1-0</td>\n",
              "      <td>IPC-nEN</td>\n",
              "    </tr>\n",
              "  </tbody>\n",
              "</table>\n",
              "</div>\n",
              "      <button class=\"colab-df-convert\" onclick=\"convertToInteractive('df-92e642e7-59ca-4b52-8a7c-c5989b71c956')\"\n",
              "              title=\"Convert this dataframe to an interactive table.\"\n",
              "              style=\"display:none;\">\n",
              "        \n",
              "  <svg xmlns=\"http://www.w3.org/2000/svg\" height=\"24px\"viewBox=\"0 0 24 24\"\n",
              "       width=\"24px\">\n",
              "    <path d=\"M0 0h24v24H0V0z\" fill=\"none\"/>\n",
              "    <path d=\"M18.56 5.44l.94 2.06.94-2.06 2.06-.94-2.06-.94-.94-2.06-.94 2.06-2.06.94zm-11 1L8.5 8.5l.94-2.06 2.06-.94-2.06-.94L8.5 2.5l-.94 2.06-2.06.94zm10 10l.94 2.06.94-2.06 2.06-.94-2.06-.94-.94-2.06-.94 2.06-2.06.94z\"/><path d=\"M17.41 7.96l-1.37-1.37c-.4-.4-.92-.59-1.43-.59-.52 0-1.04.2-1.43.59L10.3 9.45l-7.72 7.72c-.78.78-.78 2.05 0 2.83L4 21.41c.39.39.9.59 1.41.59.51 0 1.02-.2 1.41-.59l7.78-7.78 2.81-2.81c.8-.78.8-2.07 0-2.86zM5.41 20L4 18.59l7.72-7.72 1.47 1.35L5.41 20z\"/>\n",
              "  </svg>\n",
              "      </button>\n",
              "      \n",
              "  <style>\n",
              "    .colab-df-container {\n",
              "      display:flex;\n",
              "      flex-wrap:wrap;\n",
              "      gap: 12px;\n",
              "    }\n",
              "\n",
              "    .colab-df-convert {\n",
              "      background-color: #E8F0FE;\n",
              "      border: none;\n",
              "      border-radius: 50%;\n",
              "      cursor: pointer;\n",
              "      display: none;\n",
              "      fill: #1967D2;\n",
              "      height: 32px;\n",
              "      padding: 0 0 0 0;\n",
              "      width: 32px;\n",
              "    }\n",
              "\n",
              "    .colab-df-convert:hover {\n",
              "      background-color: #E2EBFA;\n",
              "      box-shadow: 0px 1px 2px rgba(60, 64, 67, 0.3), 0px 1px 3px 1px rgba(60, 64, 67, 0.15);\n",
              "      fill: #174EA6;\n",
              "    }\n",
              "\n",
              "    [theme=dark] .colab-df-convert {\n",
              "      background-color: #3B4455;\n",
              "      fill: #D2E3FC;\n",
              "    }\n",
              "\n",
              "    [theme=dark] .colab-df-convert:hover {\n",
              "      background-color: #434B5C;\n",
              "      box-shadow: 0px 1px 3px 1px rgba(0, 0, 0, 0.15);\n",
              "      filter: drop-shadow(0px 1px 2px rgba(0, 0, 0, 0.3));\n",
              "      fill: #FFFFFF;\n",
              "    }\n",
              "  </style>\n",
              "\n",
              "      <script>\n",
              "        const buttonEl =\n",
              "          document.querySelector('#df-92e642e7-59ca-4b52-8a7c-c5989b71c956 button.colab-df-convert');\n",
              "        buttonEl.style.display =\n",
              "          google.colab.kernel.accessAllowed ? 'block' : 'none';\n",
              "\n",
              "        async function convertToInteractive(key) {\n",
              "          const element = document.querySelector('#df-92e642e7-59ca-4b52-8a7c-c5989b71c956');\n",
              "          const dataTable =\n",
              "            await google.colab.kernel.invokeFunction('convertToInteractive',\n",
              "                                                     [key], {});\n",
              "          if (!dataTable) return;\n",
              "\n",
              "          const docLinkHtml = 'Like what you see? Visit the ' +\n",
              "            '<a target=\"_blank\" href=https://colab.research.google.com/notebooks/data_table.ipynb>data table notebook</a>'\n",
              "            + ' to learn more about interactive tables.';\n",
              "          element.innerHTML = '';\n",
              "          dataTable['output_type'] = 'display_data';\n",
              "          await google.colab.output.renderOutput(dataTable, element);\n",
              "          const docLink = document.createElement('div');\n",
              "          docLink.innerHTML = docLinkHtml;\n",
              "          element.appendChild(docLink);\n",
              "        }\n",
              "      </script>\n",
              "    </div>\n",
              "  </div>\n",
              "  "
            ]
          },
          "metadata": {},
          "execution_count": 23
        }
      ]
    },
    {
      "cell_type": "code",
      "source": [
        "filename = 'meta_data.txt'\n",
        "meta_nowakowski.to_csv(os.path.join('/mntDrive/MyDrive/Capstone/CellphoneDB_Files', filename), index=False, sep ='\\t')"
      ],
      "metadata": {
        "id": "CSPjzps9Ht8M"
      },
      "execution_count": null,
      "outputs": []
    },
    {
      "cell_type": "code",
      "source": [
        "# meta_nowakowski = adata.obs['nowakowski_med'].to_df()"
      ],
      "metadata": {
        "colab": {
          "base_uri": "https://localhost:8080/"
        },
        "id": "4qtjhrLcGLDv",
        "outputId": "be487abc-8313-46a6-f89f-5a27de25161e"
      },
      "execution_count": null,
      "outputs": [
        {
          "output_type": "execute_result",
          "data": {
            "text/plain": [
              "AAACCTGAGCTCAACT-1-0       EN-V1\n",
              "AAACCTGAGGAATGGA-1-0      IN-STR\n",
              "AAACCTGAGTCGCCGT-1-0     IPC-nEN\n",
              "AAACCTGAGTCTCCTC-1-0    RG-early\n",
              "AAACCTGAGTGCCATT-1-0     IPC-nEN\n",
              "                          ...   \n",
              "TTTGTCATCGCAAACT-1-3     IPC-nEN\n",
              "TTTGTCATCGTAGATC-1-3         vRG\n",
              "TTTGTCATCGTAGGAG-1-3    RG-early\n",
              "TTTGTCATCTAACTTC-1-3     IPC-nEN\n",
              "TTTGTCATCTTGCCGT-1-3    RG-early\n",
              "Name: nowakowski_med, Length: 45214, dtype: category\n",
              "Categories (28, object): ['Astrocyte', 'Choroid', 'EN-PFC', 'EN-V1', ..., 'nIN', 'oRG', 'tRG', 'vRG']"
            ]
          },
          "metadata": {},
          "execution_count": 14
        }
      ]
    },
    {
      "cell_type": "markdown",
      "source": [
        "### CellPhoneDB data prep code from anndata\n",
        "Provided on CellPhoneDB GitHub"
      ],
      "metadata": {
        "id": "1onLxCslIG0J"
      }
    },
    {
      "cell_type": "code",
      "source": [
        "\"\"\" Step 0 - prepare your data\n",
        "\n",
        "Prepare cellphoneDB inputs starting from an anndata object object\n",
        "\"\"\"\n",
        "\n",
        "import numpy as np\n",
        "import pandas as pd\n",
        "import scanpy as sc\n",
        "import anndata\n",
        "import os\n",
        "import sys\n",
        "from scipy import sparse\n",
        "\n",
        "\n",
        "\n",
        "sc.settings.verbosity = 1  # verbosity: errors (0), warnings (1), info (2), hints (3)\n",
        "sys.executable"
      ],
      "metadata": {
        "colab": {
          "base_uri": "https://localhost:8080/",
          "height": 37
        },
        "id": "1ED6xtq-IQSe",
        "outputId": "c063023f-45b4-4386-e096-f81f9c850b04"
      },
      "execution_count": null,
      "outputs": [
        {
          "output_type": "execute_result",
          "data": {
            "text/plain": [
              "'/usr/bin/python3'"
            ],
            "application/vnd.google.colaboratory.intrinsic+json": {
              "type": "string"
            }
          },
          "metadata": {},
          "execution_count": 14
        }
      ]
    },
    {
      "cell_type": "code",
      "source": [
        "\"\"\"1. Load andata\n",
        "The anndata object contains counts that have been normalized (per cell) and log-transformed.\"\"\""
      ],
      "metadata": {
        "id": "_GPE4Yl9IYlU"
      },
      "execution_count": null,
      "outputs": []
    },
    {
      "cell_type": "code",
      "source": [
        "adata = sc.read('endometrium_example_counts.h5ad')"
      ],
      "metadata": {
        "id": "t86oWzmRIbOm"
      },
      "execution_count": null,
      "outputs": []
    },
    {
      "cell_type": "code",
      "source": [
        "\"\"\"2. Generate your meta\n",
        "\n",
        "In this example, our input is an anndata containing the cluster/celltype information in anndata.obs['cell_type']\n",
        "\n",
        "The object also has anndata.obs['lineage'] information wich will be used below for a hierarchical DEGs approach.\"\"\""
      ],
      "metadata": {
        "id": "zfrwq4riIcxx"
      },
      "execution_count": null,
      "outputs": []
    },
    {
      "cell_type": "code",
      "source": [
        "adata.obs['cell_type'].values.describe()"
      ],
      "metadata": {
        "id": "a-4Sbne_Igce"
      },
      "execution_count": null,
      "outputs": []
    },
    {
      "cell_type": "code",
      "source": [
        "df_meta = pd.DataFrame(data={'Cell':list(adata.obs.index),\n",
        "                             'cell_type':[ i for i in adata.obs['cell_type']]\n",
        "                            })\n",
        "df_meta.set_index('Cell', inplace=True)\n",
        "# df_meta.to_csv('endometrium_example_meta.tsv', sep = '\\t')"
      ],
      "metadata": {
        "id": "3kVAhLhVIjOX"
      },
      "execution_count": null,
      "outputs": []
    },
    {
      "cell_type": "code",
      "source": [
        "## Run CellPhoneDB\n",
        "# shell cellphonedb method statistical_analysis test_meta.txt test_counts.txt"
      ],
      "metadata": {
        "id": "W3B4pvnpImPE"
      },
      "execution_count": null,
      "outputs": []
    },
    {
      "cell_type": "markdown",
      "source": [
        "Cellphone DB with test data"
      ],
      "metadata": {
        "id": "ATwMgd12ABKi"
      }
    },
    {
      "cell_type": "code",
      "source": [
        "sample_count_path = '/mntDrive/MyDrive/Capstone/CellphoneDB_Files/sample_counts_file.txt'\n",
        "sample_meta_path = '/mntDrive/MyDrive/Capstone/CellphoneDB_Files/sample_meta_file.txt'"
      ],
      "metadata": {
        "id": "0tbvFBH3AFvX"
      },
      "execution_count": null,
      "outputs": []
    },
    {
      "cell_type": "code",
      "source": [
        "!pip install cellphonedb "
      ],
      "metadata": {
        "id": "_iGIbGpVJmoG"
      },
      "execution_count": null,
      "outputs": []
    },
    {
      "cell_type": "code",
      "source": [
        "import cellphonedb"
      ],
      "metadata": {
        "id": "0ddzIp_XJv7U"
      },
      "execution_count": null,
      "outputs": []
    },
    {
      "cell_type": "code",
      "source": [
        "!cellphonedb method statistical_analysis --help"
      ],
      "metadata": {
        "colab": {
          "base_uri": "https://localhost:8080/"
        },
        "id": "Hebzmq2KNRF7",
        "outputId": "b5677730-b2a3-48b0-81fd-fc9184563b7a"
      },
      "execution_count": null,
      "outputs": [
        {
          "output_type": "stream",
          "name": "stdout",
          "text": [
            "Usage: cellphonedb method statistical_analysis \n",
            "           [OPTIONS] META_FILENAME COUNTS_FILENAME\n",
            "\n",
            "Options:\n",
            "  --counts-data [ensembl|gene_name|hgnc_symbol]\n",
            "  --project-name TEXT             Name of the\n",
            "                                  project. It\n",
            "                                  creates a\n",
            "                                  subfolder in\n",
            "                                  output folder\n",
            "\n",
            "  --microenvs TEXT                Path to microenv\n",
            "                                  ironments file\n",
            "                                  [None]\n",
            "\n",
            "  --threshold FLOAT               % of cells\n",
            "                                  expressing a\n",
            "                                  gene\n",
            "\n",
            "  --result-precision INTEGER      Number of\n",
            "                                  decimal digits\n",
            "                                  in results [3]\n",
            "\n",
            "  --output-path TEXT              Directory where\n",
            "                                  the results will\n",
            "                                  be allocated\n",
            "                                  (the directory\n",
            "                                  must exist)\n",
            "                                  [out]\n",
            "\n",
            "  --output-format [txt|csv|tsv|tab]\n",
            "  --means-result-name TEXT        Means result\n",
            "                                  namefile [means]\n",
            "\n",
            "  --significant-means-result-name TEXT\n",
            "                                  Significant\n",
            "                                  result namefile [\n",
            "                                  significant_mean\n",
            "                                  s]\n",
            "\n",
            "  --deconvoluted-result-name TEXT\n",
            "                                  Deconvoluted\n",
            "                                  result namefile\n",
            "                                  [deconvoluted]\n",
            "\n",
            "  --verbose / --quiet             Print or hide\n",
            "                                  cellphonedb logs\n",
            "                                  [verbose]\n",
            "\n",
            "  --database TEXT\n",
            "  --debug                         Save\n",
            "                                  intermediate and\n",
            "                                  result data as a\n",
            "                                  pickle files\n",
            "\n",
            "  --subsampling                   Enable\n",
            "                                  subsampling\n",
            "\n",
            "  --subsampling-log BOOLEAN       Enable\n",
            "                                  subsampling\n",
            "                                  log1p for non\n",
            "                                  transformed data\n",
            "                                  inputs\n",
            "                                  !mandatory!\n",
            "\n",
            "  --subsampling-num-pc INTEGER    Subsampling\n",
            "                                  NumPC argument\n",
            "                                  [100]\n",
            "\n",
            "  --subsampling-num-cells INTEGER\n",
            "                                  Number of cells\n",
            "                                  to subsample\n",
            "                                  (defaults to a\n",
            "                                  1/3 of cells)\n",
            "\n",
            "  --debug-seed INTEGER            Debug random\n",
            "                                  seed 0 for\n",
            "                                  disable it. >=0\n",
            "                                  to set it [-1]\n",
            "\n",
            "  --pvalue FLOAT                  Pvalue threshold\n",
            "                                  [0.05]\n",
            "\n",
            "  --pvalues-result-name TEXT      Pvalues result\n",
            "                                  namefile\n",
            "                                  [pvalues]\n",
            "\n",
            "  --iterations INTEGER            Number of\n",
            "                                  pvalues analysis\n",
            "                                  iterations\n",
            "                                  [1000]\n",
            "\n",
            "  --threads INTEGER               Max of threads\n",
            "                                  to process the\n",
            "                                  data [4]\n",
            "\n",
            "  --help                          Show this\n",
            "                                  message and\n",
            "                                  exit.\n"
          ]
        }
      ]
    },
    {
      "cell_type": "code",
      "source": [
        "#run statistical analysis - took 43 seconds\n",
        "!cellphonedb method statistical_analysis /mntDrive/MyDrive/Capstone/CellphoneDB_Files/sample_meta_file.txt /mntDrive/MyDrive/Capstone/CellphoneDB_Files/sample_counts_file.txt --output-path /mntDrive/MyDrive/Capstone/CellphoneDB_Files/"
      ],
      "metadata": {
        "colab": {
          "base_uri": "https://localhost:8080/"
        },
        "id": "7ARyQI4oJrG3",
        "outputId": "778c7d1a-c4dd-4053-d1ab-a13829e87680"
      },
      "execution_count": null,
      "outputs": [
        {
          "output_type": "stream",
          "name": "stdout",
          "text": [
            "[ ][CORE][12/10/22-21:59:27][INFO] Initializing SqlAlchemy CellPhoneDB Core\n",
            "[ ][CORE][12/10/22-21:59:27][INFO] Using custom database at /root/.cpdb/releases/v4.0.0/cellphone.db\n",
            "[ ][APP][12/10/22-21:59:27][INFO] Launching Method cpdb_statistical_analysis_local_method_launcher\n",
            "[ ][APP][12/10/22-21:59:27][INFO] Launching Method _set_paths\n",
            "[ ][APP][12/10/22-21:59:27][WARNING] Output directory (/mntDrive/MyDrive/Capstone/CellphoneDB_Files/) exist and is not empty. Result can overwrite old results\n",
            "[ ][APP][12/10/22-21:59:27][INFO] Launching Method _load_meta_counts\n",
            "[ ][APP][12/10/22-21:59:27][INFO] Launching Method _check_counts_data\n",
            "[ ][CORE][12/10/22-21:59:27][INFO] Launching Method cpdb_statistical_analysis_launcher\n",
            "[ ][CORE][12/10/22-21:59:27][INFO] Launching Method _counts_validations\n",
            "[ ][CORE][12/10/22-21:59:27][INFO] Launching Method get_interactions_genes_complex\n",
            "[ ][CORE][12/10/22-21:59:27][INFO] [Cluster Statistical Analysis] Threshold:0.1 Iterations:1000 Debug-seed:-1 Threads:4 Precision:3\n",
            "[ ][CORE][12/10/22-21:59:29][INFO] Running Real Analysis\n",
            "[ ][CORE][12/10/22-21:59:29][INFO] Running Statistical Analysis\n",
            "[ ][CORE][12/10/22-22:00:08][INFO] Building Pvalues result\n",
            "[ ][CORE][12/10/22-22:00:08][INFO] Building results\n"
          ]
        }
      ]
    },
    {
      "cell_type": "code",
      "source": [
        "!cellphonedb plot dot_plot --help"
      ],
      "metadata": {
        "colab": {
          "base_uri": "https://localhost:8080/"
        },
        "id": "IVe3vDOMKdH4",
        "outputId": "86b13a80-be5b-4b0c-926c-58f341056107"
      },
      "execution_count": null,
      "outputs": [
        {
          "output_type": "stream",
          "name": "stdout",
          "text": [
            "Usage: cellphonedb plot dot_plot \n",
            "           [OPTIONS]\n",
            "\n",
            "Options:\n",
            "  --means-path FILE        Analysis output means\n",
            "                           [./out/means.txt]\n",
            "\n",
            "  --pvalues-path FILE      Analysis output pvalues\n",
            "                           [./out/pvalues.txt]\n",
            "\n",
            "  --output-path DIRECTORY  Path to write generated\n",
            "                           plot [./out]\n",
            "\n",
            "  --output-name TEXT       Output file with plot\n",
            "                           [plot.pdf]\n",
            "\n",
            "  --rows FILE              List of rows to plot,\n",
            "                           one per line [all\n",
            "                           available]\n",
            "\n",
            "  --columns FILE           List of columns to\n",
            "                           plot, one per line [all\n",
            "                           available]\n",
            "\n",
            "  --verbose / --quiet      Print or hide\n",
            "                           cellphonedb logs\n",
            "                           [verbose]\n",
            "\n",
            "  --help                   Show this message and\n",
            "                           exit.\n"
          ]
        }
      ]
    },
    {
      "cell_type": "code",
      "source": [
        "!cellphonedb plot dot_plot --help"
      ],
      "metadata": {
        "colab": {
          "base_uri": "https://localhost:8080/"
        },
        "id": "egclSkKKLUs7",
        "outputId": "4aec92d8-18cb-456d-cf41-997d866c72fc"
      },
      "execution_count": null,
      "outputs": [
        {
          "output_type": "stream",
          "name": "stdout",
          "text": [
            "Usage: cellphonedb plot dot_plot \n",
            "           [OPTIONS]\n",
            "\n",
            "Options:\n",
            "  --means-path FILE        Analysis output means\n",
            "                           [./out/means.txt]\n",
            "\n",
            "  --pvalues-path FILE      Analysis output pvalues\n",
            "                           [./out/pvalues.txt]\n",
            "\n",
            "  --output-path DIRECTORY  Path to write generated\n",
            "                           plot [./out]\n",
            "\n",
            "  --output-name TEXT       Output file with plot\n",
            "                           [plot.pdf]\n",
            "\n",
            "  --rows FILE              List of rows to plot,\n",
            "                           one per line [all\n",
            "                           available]\n",
            "\n",
            "  --columns FILE           List of columns to\n",
            "                           plot, one per line [all\n",
            "                           available]\n",
            "\n",
            "  --verbose / --quiet      Print or hide\n",
            "                           cellphonedb logs\n",
            "                           [verbose]\n",
            "\n",
            "  --help                   Show this message and\n",
            "                           exit.\n"
          ]
        }
      ]
    },
    {
      "cell_type": "code",
      "source": [
        "!cellphonedb plot dot_plot --output-path /mntDrive/MyDrive/Capstone/CellphoneDB_Files/"
      ],
      "metadata": {
        "colab": {
          "base_uri": "https://localhost:8080/"
        },
        "id": "yFxn2BO-MM0w",
        "outputId": "4e8170c1-e92d-4d38-ef70-88037dd1e27d"
      },
      "execution_count": null,
      "outputs": [
        {
          "output_type": "stream",
          "name": "stdout",
          "text": [
            "\u001b[?25h"
          ]
        }
      ]
    },
    {
      "cell_type": "code",
      "source": [
        "!cellphonedb plot heatmap_plot /mntDrive/MyDrive/Capstone/CellphoneDB_Files/sample_meta_file.txt"
      ],
      "metadata": {
        "colab": {
          "base_uri": "https://localhost:8080/"
        },
        "id": "Q2Dd33eVKJ5u",
        "outputId": "a08261b3-3a9d-4e82-8383-718217875e76"
      },
      "execution_count": null,
      "outputs": [
        {
          "output_type": "stream",
          "name": "stdout",
          "text": [
            "R[write to console]: Error in library(pheatmap) : there is no package called ‘pheatmap’\n",
            "\n",
            "[ ][APP][12/10/22-21:51:51][ERROR] Unexpected error\n",
            "Traceback (most recent call last):\n",
            "  File \"/usr/local/lib/python3.7/dist-packages/cellphonedb/src/api_endpoints/terminal_api/plot_terminal_api_endpoints/plot_terminal_commands.py\", line 78, in heatmap_plot\n",
            "    pvalue=pvalue)\n",
            "  File \"/usr/local/lib/python3.7/dist-packages/cellphonedb/src/plotters/r_plotter.py\", line 38, in wrapper\n",
            "    return f(*args, **kwargs, robjects=robjects, r_runtime_error=RRuntimeError)\n",
            "  File \"/usr/local/lib/python3.7/dist-packages/cellphonedb/src/plotters/r_plotter.py\", line 60, in heatmaps_plot\n",
            "    robjects.r.source(os.path.join(this_file_dir, 'R/plot_heatmaps.R'))\n",
            "  File \"/usr/local/lib/python3.7/dist-packages/rpy2/robjects/functions.py\", line 199, in __call__\n",
            "    .__call__(*args, **kwargs))\n",
            "  File \"/usr/local/lib/python3.7/dist-packages/rpy2/robjects/functions.py\", line 125, in __call__\n",
            "    res = super(Function, self).__call__(*new_args, **new_kwargs)\n",
            "  File \"/usr/local/lib/python3.7/dist-packages/rpy2/rinterface_lib/conversion.py\", line 45, in _\n",
            "    cdata = function(*args, **kwargs)\n",
            "  File \"/usr/local/lib/python3.7/dist-packages/rpy2/rinterface.py\", line 680, in __call__\n",
            "    raise embedded.RRuntimeError(_rinterface._geterrmessage())\n",
            "rpy2.rinterface_lib.embedded.RRuntimeError: Error in library(pheatmap) : there is no package called ‘pheatmap’\n",
            "\n"
          ]
        }
      ]
    },
    {
      "cell_type": "code",
      "source": [],
      "metadata": {
        "id": "wIJEZXy8Lh5x"
      },
      "execution_count": null,
      "outputs": []
    }
  ]
}