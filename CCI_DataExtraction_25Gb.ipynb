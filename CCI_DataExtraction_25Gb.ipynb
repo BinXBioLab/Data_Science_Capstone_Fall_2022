{
  "nbformat": 4,
  "nbformat_minor": 0,
  "metadata": {
    "colab": {
      "provenance": [],
      "collapsed_sections": [],
      "machine_shape": "hm",
      "toc_visible": true
    },
    "kernelspec": {
      "display_name": "Python 3",
      "language": "python",
      "name": "python3"
    },
    "language_info": {
      "codemirror_mode": {
        "name": "ipython",
        "version": 3
      },
      "file_extension": ".py",
      "mimetype": "text/x-python",
      "name": "python",
      "nbconvert_exporter": "python",
      "pygments_lexer": "ipython3",
      "version": "3.7.1"
    }
  },
  "cells": [
    {
      "cell_type": "markdown",
      "source": [
        "#Cell-Cell Interactions - Notebook 1/2\n",
        "##Notebook purpose: Create input files for CellPhoneDB\n",
        "\n"
      ],
      "metadata": {
        "id": "4FAZY6nDf9DB"
      }
    },
    {
      "cell_type": "markdown",
      "source": [
        "###Setup Notebook for data extraction"
      ],
      "metadata": {
        "id": "VaQFL20RfPJx"
      }
    },
    {
      "cell_type": "code",
      "source": [
        "#mount access to google drive to access relevant data for input and output files\n",
        "from google.colab import drive\n",
        "drive.mount('/mntDrive')"
      ],
      "metadata": {
        "colab": {
          "base_uri": "https://localhost:8080/"
        },
        "id": "qNC_dxW-f5xQ",
        "outputId": "e23b2ef6-c273-48d5-b1fc-74ae43ffdc7b"
      },
      "execution_count": null,
      "outputs": [
        {
          "output_type": "stream",
          "name": "stdout",
          "text": [
            "Mounted at /mntDrive\n"
          ]
        }
      ]
    },
    {
      "cell_type": "markdown",
      "source": [
        "To Do: Click \"RESTART RUNTIME\" button at end of code output after running pip install cell below!"
      ],
      "metadata": {
        "id": "jhpsdg7LqR4q"
      }
    },
    {
      "cell_type": "code",
      "source": [
        "#Need to install scanpy for data import and extraction process, this requires restarting runtime \n",
        "!pip install scanpy"
      ],
      "metadata": {
        "id": "eMNQwMytesoC"
      },
      "execution_count": null,
      "outputs": []
    },
    {
      "cell_type": "code",
      "source": [
        "#change to relevant directory in mounted drive - you can now assume you are working from this directory\n",
        "%cd /mntDrive/MyDrive/Capstone/CellphoneDB_Files"
      ],
      "metadata": {
        "colab": {
          "base_uri": "https://localhost:8080/"
        },
        "id": "g4K0JddRgZNP",
        "outputId": "55b765f3-3040-4c30-cd7c-671ce44a61a5"
      },
      "execution_count": null,
      "outputs": [
        {
          "output_type": "stream",
          "name": "stdout",
          "text": [
            "/mntDrive/.shortcut-targets-by-id/1z3q46vaebOyzwaeo5O--GgQmX-22nmRh/Capstone/CellphoneDB_Files\n"
          ]
        }
      ]
    },
    {
      "cell_type": "code",
      "source": [
        "#import packages needed for data extraction\n",
        "import pandas as pd\n",
        "import scanpy as sc\n",
        "import os "
      ],
      "metadata": {
        "id": "fVZ1vh9_5tzF"
      },
      "execution_count": null,
      "outputs": []
    },
    {
      "cell_type": "markdown",
      "source": [
        "##Import Data and Transform"
      ],
      "metadata": {
        "id": "VRsiIFaVhlD0"
      }
    },
    {
      "cell_type": "markdown",
      "source": [
        "TO DO: fill filepath variable in with your desired input file, .h5ad format expected. "
      ],
      "metadata": {
        "id": "hRKFtmRbiliE"
      }
    },
    {
      "cell_type": "code",
      "source": [
        "adata_filepath = '</folder/folder/data_analysis_output_file.h5ad>' \n",
        "adata = sc.read(adata_filepath)\n",
        "#visual inspection of file format -- may be needed to specify cell type label layer\n",
        "adata"
      ],
      "metadata": {
        "id": "j8WK8XAahi3H"
      },
      "execution_count": null,
      "outputs": []
    },
    {
      "cell_type": "markdown",
      "source": [
        "Create Counts Data File: \n",
        "\n",
        "columns = cells, rows = genes (ensemble IDs) "
      ],
      "metadata": {
        "id": "_GKqgLZFmZMT"
      }
    },
    {
      "cell_type": "code",
      "source": [
        "#extracts counts layer of anndata file\n",
        "df_expr_matrix = adata.to_df(layer=\"counts\")\n",
        "#transpose dataframe to fit column & row requirements\n",
        "df_expr_matrix = df_expr_matrix.T\n",
        "# # Set cell ids as column headers\n",
        "df_expr_matrix.columns = adata.obs.index\n",
        "# # Set rows/genes to Ensemble ID\n",
        "df_expr_matrix.set_index(adata.var.gene_ids, inplace=True) \n",
        "# # Visual inspection for correct format\n",
        "df_expr_matrix.head()"
      ],
      "metadata": {
        "id": "Nc-8yF0_mCE7"
      },
      "execution_count": null,
      "outputs": []
    },
    {
      "cell_type": "markdown",
      "source": [
        "Prepare Meta Data File:\n",
        "\n",
        "2 columns: cell & cell type label"
      ],
      "metadata": {
        "id": "k7xTWYJdnP7E"
      }
    },
    {
      "cell_type": "markdown",
      "source": [
        "To Do: find correct layer in 'obs' that houses cell to cell type mapping. Leverage adata file organization printed above."
      ],
      "metadata": {
        "id": "pYNCWg8knsFX"
      }
    },
    {
      "cell_type": "code",
      "source": [
        "adata.obs['<layer that specifies cell type label>']"
      ],
      "metadata": {
        "id": "LJoQS4nUnL7C"
      },
      "execution_count": null,
      "outputs": []
    },
    {
      "cell_type": "code",
      "source": [
        "## generate meta file\n",
        "df_meta = pd.DataFrame(data={'Cell': list(adata.obs['<layer that specifies cell type label>'].index), \n",
        "                             'cell_type': list(adata.obs['<layer that specifies cell type label>'])})\n",
        "\n",
        "df_meta.set_index('Cell',inplace=True)\n",
        "\n",
        "#check for missing values\n",
        "print('Missing Values Count:', df_meta.isna().sum().sum())\n",
        "\n",
        "#visuale inspection of table\n",
        "df_meta.head()"
      ],
      "metadata": {
        "id": "KFlmzL-hnzz4"
      },
      "execution_count": null,
      "outputs": []
    },
    {
      "cell_type": "markdown",
      "source": [
        "If Missing Values Count >0, follow next steps, otherwise skip to \"Save Extracted Data\" section\n",
        "\n",
        "To Do: Ensure shape matches between meta table # cells & counts table # cells "
      ],
      "metadata": {
        "id": "LakKNAiRpJxG"
      }
    },
    {
      "cell_type": "code",
      "source": [
        "#create list of cells missing celltype label\n",
        "drop_cells = list(df_meta[df_meta['cell_type'].isna()].index)\n",
        "\n",
        "#drop cells missing celltype label from meta dataframe\n",
        "df_meta = df_meta.dropna()\n",
        "print('Shape of Meta Table:', df_meta.shape)\n",
        "\n",
        "#update counts table to remove empty cell type\n",
        "df_counts = df_expr_matrix.drop(columns=drop_cells)\n",
        "print('Shape of Counts Table:', df_counts.shape)"
      ],
      "metadata": {
        "id": "ca7xa8pcoUD5"
      },
      "execution_count": null,
      "outputs": []
    },
    {
      "cell_type": "markdown",
      "source": [
        "##Save Extracted Data to Google Drive\n",
        "\n",
        "To Do:\n",
        "Specify output path! These files will be the input for CellPhoneDB. \n",
        "\n",
        "Can take up to 1-1.5 hours to save for large files."
      ],
      "metadata": {
        "id": "aZXtGjK0oVe8"
      }
    },
    {
      "cell_type": "code",
      "source": [
        "output_filepath = '</base_folder/output_folder/>'"
      ],
      "metadata": {
        "id": "wbelQxpioi0a"
      },
      "execution_count": null,
      "outputs": []
    },
    {
      "cell_type": "code",
      "source": [
        "#saves as .txt file, tab delimited - can take up to an hour to run for large input data\n",
        "df_meta.to_csv(os.join.path(output_filepath, 'meta_data.txt'), sep='\\t')\n",
        "df_counts.to_csv(os.join.path(output_filepath, 'counts_data.txt'), sep='\\t') "
      ],
      "metadata": {
        "id": "GZ_Pi5iNoYNj"
      },
      "execution_count": null,
      "outputs": []
    }
  ]
}