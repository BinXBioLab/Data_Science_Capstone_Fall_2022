{
 "cells": [
  {
   "cell_type": "code",
   "execution_count": null,
   "id": "b192e351",
   "metadata": {},
   "outputs": [],
   "source": [
    "from google.colab import drive\n",
    "drive.mount('/content/drive')\n",
    "!mkdir /content/MyDrive\n",
    "!mount --bind /content/drive/My\\ Drive /content/MyDrive\n",
    "# the magic % will help with the cd command :)\n",
    "%cd /content"
   ]
  },
  {
   "cell_type": "code",
   "execution_count": null,
   "id": "3fbd45f0",
   "metadata": {},
   "outputs": [],
   "source": [
    "!pip install scanpy\n",
    "!pip install squidpy\n",
    "!pip install scikit-image\n",
    "!pip install tangram-sc\n",
    "!pip install gdown\n",
    "# to upgrade\n",
    "!pip install --upgrade gdown"
   ]
  },
  {
   "cell_type": "code",
   "execution_count": 12,
   "id": "b1ef339b",
   "metadata": {},
   "outputs": [],
   "source": [
    "import scanpy as sc\n",
    "import squidpy as sq\n",
    "import numpy as np\n",
    "import pandas as pd\n",
    "from anndata import AnnData\n",
    "import pathlib\n",
    "import matplotlib.pyplot as plt\n",
    "import matplotlib as mpl\n",
    "import skimage\n",
    "import seaborn as sns\n",
    "import tangram as tg"
   ]
  },
  {
   "cell_type": "code",
   "execution_count": 2,
   "id": "b161a548",
   "metadata": {},
   "outputs": [
    {
     "name": "stdout",
     "output_type": "stream",
     "text": [
      "[WinError 3] The system cannot find the path specified: \"'/content/MyDrive/spatial_scRNAseq_test'\"\n",
      "C:\\Users\\juhyu\\Documents\\GitHub\\Data_Science_Capstone_Fall_2022\n"
     ]
    }
   ],
   "source": [
    "%cd '/content/MyDrive/spatial_scRNAseq_test'"
   ]
  },
  {
   "cell_type": "code",
   "execution_count": 3,
   "id": "77a4a5c4",
   "metadata": {},
   "outputs": [],
   "source": [
    "#!gdown --fuzzy 'https://drive.google.com/file/d/19O5HyRPUcaeYZut7m_wC7ND6Tb_vNVle/view?usp=share_link'"
   ]
  },
  {
   "cell_type": "markdown",
   "id": "0abb4659",
   "metadata": {},
   "source": [
    "# 1. Load in Files"
   ]
  },
  {
   "cell_type": "code",
   "execution_count": 13,
   "id": "e84200e1",
   "metadata": {},
   "outputs": [],
   "source": [
    "adata_sc = sc.read_h5ad(\"pasca.log1p_liger_med_singleR_noglyc.h5ad\")"
   ]
  },
  {
   "cell_type": "code",
   "execution_count": 57,
   "id": "6f12fc96",
   "metadata": {},
   "outputs": [],
   "source": [
    "adata_st = sq.datasets.visium('V1_Human_Brain_Section_1')   \n",
    "adata_st = sq.datasets.sc_mouse_cortex()\n",
    "#adata_st = sq.datasets.visium('V1_Human_Brain_Section_2') "
   ]
  },
  {
   "cell_type": "code",
   "execution_count": 15,
   "id": "e584b0ee",
   "metadata": {},
   "outputs": [],
   "source": [
    "img = sq.datasets.visium_fluo_image_crop()\n",
    "#img = sq.datasets.visium_hne_image_crop()"
   ]
  },
  {
   "cell_type": "markdown",
   "id": "fdf3f1b6",
   "metadata": {},
   "source": [
    "# 2. Preprocess spatial data"
   ]
  },
  {
   "cell_type": "code",
   "execution_count": 58,
   "id": "ecb05c99",
   "metadata": {},
   "outputs": [],
   "source": [
    "sc.pp.calculate_qc_metrics(adata_st, inplace=True)"
   ]
  },
  {
   "cell_type": "code",
   "execution_count": 59,
   "id": "c70baad3",
   "metadata": {},
   "outputs": [
    {
     "data": {
      "text/plain": [
       "AnnData object with n_obs × n_vars = 21697 × 36826\n",
       "    obs: 'sample_name', 'organism', 'donor_sex', 'cell_class', 'cell_subclass', 'cell_cluster', 'n_genes_by_counts', 'log1p_n_genes_by_counts', 'total_counts', 'log1p_total_counts', 'pct_counts_in_top_50_genes', 'pct_counts_in_top_100_genes', 'pct_counts_in_top_200_genes', 'pct_counts_in_top_500_genes', 'total_counts_mt', 'log1p_total_counts_mt', 'pct_counts_mt', 'n_counts'\n",
       "    var: 'mt', 'n_cells_by_counts', 'mean_counts', 'log1p_mean_counts', 'pct_dropout_by_counts', 'total_counts', 'log1p_total_counts', 'n_cells', 'highly_variable', 'highly_variable_rank', 'means', 'variances', 'variances_norm'\n",
       "    uns: 'cell_class_colors', 'cell_subclass_colors', 'hvg', 'neighbors', 'pca', 'umap'\n",
       "    obsm: 'X_pca', 'X_umap'\n",
       "    varm: 'PCs'\n",
       "    obsp: 'connectivities', 'distances'"
      ]
     },
     "execution_count": 59,
     "metadata": {},
     "output_type": "execute_result"
    }
   ],
   "source": [
    "adata_st"
   ]
  },
  {
   "cell_type": "code",
   "execution_count": 60,
   "id": "d9a465b0",
   "metadata": {},
   "outputs": [],
   "source": [
    "sc.pp.normalize_total(adata_st, inplace=True)\n",
    "sc.pp.log1p(adata_st)\n",
    "sc.pp.highly_variable_genes(adata_st, flavor=\"seurat\", n_top_genes=2000, inplace=True)"
   ]
  },
  {
   "cell_type": "code",
   "execution_count": 61,
   "id": "9b90daf7",
   "metadata": {},
   "outputs": [],
   "source": [
    "sc.pp.neighbors(adata_st)\n",
    "sc.tl.umap(adata_st)\n",
    "sc.tl.leiden(adata_st, key_added=\"clusters\")"
   ]
  },
  {
   "cell_type": "code",
   "execution_count": 47,
   "id": "1ba1f55c",
   "metadata": {},
   "outputs": [],
   "source": [
    "# Pre processing of adata_st ends"
   ]
  },
  {
   "cell_type": "code",
   "execution_count": 48,
   "id": "57646b73",
   "metadata": {},
   "outputs": [],
   "source": [
    "#adata_st.write_h5ad(\"adata_st_postpre.h5ad\")"
   ]
  },
  {
   "cell_type": "code",
   "execution_count": 49,
   "id": "93070cd2",
   "metadata": {},
   "outputs": [],
   "source": [
    "#adata_st = sc.read_h5ad(\"adata_st_postpre.h5ad\")"
   ]
  },
  {
   "cell_type": "markdown",
   "id": "877b5bf2",
   "metadata": {},
   "source": [
    "# 3. Generate Map"
   ]
  },
  {
   "cell_type": "markdown",
   "id": "632f9657",
   "metadata": {},
   "source": [
    "## 3.1 Select Genes"
   ]
  },
  {
   "cell_type": "code",
   "execution_count": 62,
   "id": "ee365d5a",
   "metadata": {},
   "outputs": [],
   "source": [
    "adata_sc.uns['log1p'][\"base\"] = None"
   ]
  },
  {
   "cell_type": "markdown",
   "id": "52f89d6e",
   "metadata": {},
   "source": [
    "### 3.1.1 Rank Gene Groups (Recommended)"
   ]
  },
  {
   "cell_type": "code",
   "execution_count": 63,
   "id": "cdf46bdd",
   "metadata": {},
   "outputs": [
    {
     "name": "stdout",
     "output_type": "stream",
     "text": [
      "WARNING: Default of the method has been changed to 't-test' from 't-test_overestim_var'\n"
     ]
    },
    {
     "data": {
      "text/plain": [
       "1320"
      ]
     },
     "execution_count": 63,
     "metadata": {},
     "output_type": "execute_result"
    }
   ],
   "source": [
    "sc.tl.rank_genes_groups(adata_sc, groupby=\"nowakowski_med\", use_raw=False)\n",
    "markers_df = pd.DataFrame(adata_sc.uns[\"rank_genes_groups\"][\"names\"]).iloc[0:100, :]\n",
    "markers = list(np.unique(markers_df.melt().value.values))\n",
    "len(markers)"
   ]
  },
  {
   "cell_type": "markdown",
   "id": "0040c2c5",
   "metadata": {},
   "source": [
    "### 3.1.2 Highly variable Genes (Alternative)"
   ]
  },
  {
   "cell_type": "code",
   "execution_count": 25,
   "id": "e1f8997e",
   "metadata": {},
   "outputs": [
    {
     "data": {
      "text/plain": [
       "'\\nsc.pp.highly_variable_genes(adata_sc)\\nhighvar_df = pd.DataFrame(adata_sc.var[\"highly_variable\"])\\nhighvar_df[highvar_df[\"highly_variable\"] == True]\\nhighvar_markers = list(highvar_df[highvar_df[\"highly_variable\"] == True].index.values)\\nprint(highvar_markers[:20])\\n'"
      ]
     },
     "execution_count": 25,
     "metadata": {},
     "output_type": "execute_result"
    }
   ],
   "source": [
    "'''\n",
    "sc.pp.highly_variable_genes(adata_sc)\n",
    "highvar_df = pd.DataFrame(adata_sc.var[\"highly_variable\"])\n",
    "highvar_df[highvar_df[\"highly_variable\"] == True]\n",
    "highvar_markers = list(highvar_df[highvar_df[\"highly_variable\"] == True].index.values)\n",
    "print(highvar_markers[:20])\n",
    "'''"
   ]
  },
  {
   "cell_type": "markdown",
   "id": "8cd9983c",
   "metadata": {},
   "source": [
    "## 3.2 Single Anndata"
   ]
  },
  {
   "cell_type": "markdown",
   "id": "3cbf21ea",
   "metadata": {},
   "source": [
    "### 3.2.1 Single Preprocess AnnData"
   ]
  },
  {
   "cell_type": "code",
   "execution_count": 9,
   "id": "a3879d79",
   "metadata": {},
   "outputs": [
    {
     "name": "stderr",
     "output_type": "stream",
     "text": [
      "INFO:root:1301 training genes are saved in `uns``training_genes` of both single cell and spatial Anndatas.\n",
      "INFO:root:21181 overlapped genes are saved in `uns``overlap_genes` of both single cell and spatial Anndatas.\n",
      "INFO:root:uniform based density prior is calculated and saved in `obs``uniform_density` of the spatial Anndata.\n",
      "INFO:root:rna count based density prior is calculated and saved in `obs``rna_count_based_density` of the spatial Anndata.\n"
     ]
    }
   ],
   "source": [
    "tg.pp_adatas(adata_sc, adata_st, genes=markers)"
   ]
  },
  {
   "cell_type": "markdown",
   "id": "57c36189",
   "metadata": {},
   "source": [
    "### 3.2.2 Single Generate Map"
   ]
  },
  {
   "cell_type": "markdown",
   "id": "9947e422",
   "metadata": {},
   "source": [
    "This is the most important process"
   ]
  },
  {
   "cell_type": "code",
   "execution_count": 11,
   "id": "8ef3d102",
   "metadata": {},
   "outputs": [
    {
     "name": "stderr",
     "output_type": "stream",
     "text": [
      "INFO:root:Allocate tensors for mapping.\n",
      "INFO:root:Begin training with 1301 genes and rna_count_based density_prior in cells mode...\n",
      "INFO:root:Printing scores every 100 epochs.\n"
     ]
    },
    {
     "name": "stdout",
     "output_type": "stream",
     "text": [
      "Score: 0.495, KL reg: 0.010\n",
      "Score: 0.654, KL reg: 0.002\n",
      "Score: 0.676, KL reg: 0.001\n"
     ]
    },
    {
     "name": "stderr",
     "output_type": "stream",
     "text": [
      "INFO:root:Saving results..\n"
     ]
    }
   ],
   "source": [
    "import torch\n",
    "torch.cuda.empty_cache()\n",
    "ad_map = tg.map_cells_to_space(adata_sc, adata_st,\n",
    "    mode=\"cells\",\n",
    "#     mode=\"clusters\",\n",
    "#     cluster_label='cell_subclass',  # .obs field w cell types\n",
    "    density_prior='rna_count_based',\n",
    "    num_epochs=250,\n",
    "#     device=\"cuda:0\",\n",
    "    device='cpu',\n",
    ")"
   ]
  },
  {
   "cell_type": "code",
   "execution_count": 23,
   "id": "34acc54a",
   "metadata": {},
   "outputs": [],
   "source": [
    "#adata_st\n",
    "#adata_st.write_h5ad(\"adata_st_postmap.h5ad\")"
   ]
  },
  {
   "cell_type": "code",
   "execution_count": null,
   "id": "7b302499",
   "metadata": {},
   "outputs": [],
   "source": [
    "#adata_st = sc.read_h5ad(\"adata_st_postmap.h5ad\")\n",
    "#ad_map = sc.read_h5ad(\"ad_map.h5ad\")"
   ]
  },
  {
   "cell_type": "markdown",
   "id": "db952ad9",
   "metadata": {},
   "source": [
    "### 3.2.3 Save Map"
   ]
  },
  {
   "cell_type": "code",
   "execution_count": 26,
   "id": "2f71a2bc",
   "metadata": {},
   "outputs": [],
   "source": [
    "adata_st.write_h5ad(\"adata_st.h5ad\")\n",
    "ad_map.write_h5ad(\"ad_map.h5ad\")"
   ]
  },
  {
   "cell_type": "markdown",
   "id": "68c0bf01",
   "metadata": {},
   "source": [
    "## 3.3 Double Anndata"
   ]
  },
  {
   "cell_type": "markdown",
   "id": "a3a7cd9b",
   "metadata": {},
   "source": [
    "###  3.3.1 Separate to two single cell data"
   ]
  },
  {
   "cell_type": "code",
   "execution_count": 64,
   "id": "738c587d",
   "metadata": {},
   "outputs": [
    {
     "data": {
      "text/plain": [
       "AAACCTGAGCTCAACT-1-0    GSM4306931_Control_1\n",
       "AAACCTGAGGAATGGA-1-0    GSM4306931_Control_1\n",
       "AAACCTGAGTCGCCGT-1-0    GSM4306931_Control_1\n",
       "AAACCTGAGTCTCCTC-1-0    GSM4306931_Control_1\n",
       "AAACCTGAGTGCCATT-1-0    GSM4306931_Control_1\n",
       "                                ...         \n",
       "TTTGTCATCGCAAACT-1-3    GSM4306934_Patient_4\n",
       "TTTGTCATCGTAGATC-1-3    GSM4306934_Patient_4\n",
       "TTTGTCATCGTAGGAG-1-3    GSM4306934_Patient_4\n",
       "TTTGTCATCTAACTTC-1-3    GSM4306934_Patient_4\n",
       "TTTGTCATCTTGCCGT-1-3    GSM4306934_Patient_4\n",
       "Name: sampleID, Length: 45214, dtype: category\n",
       "Categories (4, object): ['GSM4306931_Control_1', 'GSM4306932_Control_2', 'GSM4306933_Patient_1', 'GSM4306934_Patient_4']"
      ]
     },
     "execution_count": 64,
     "metadata": {},
     "output_type": "execute_result"
    }
   ],
   "source": [
    "adata_sc.obs['sampleID']"
   ]
  },
  {
   "cell_type": "code",
   "execution_count": 65,
   "id": "91dcc5ce",
   "metadata": {},
   "outputs": [],
   "source": [
    "filter_val = ['GSM4306931_Control_1', 'GSM4306932_Control_2']\n",
    "adata_sc1 = adata_sc[adata_sc.obs['sampleID'].isin(filter_val),:]\n",
    "adata_sc2 = adata_sc[~adata_sc.obs['sampleID'].isin(filter_val),:]"
   ]
  },
  {
   "cell_type": "markdown",
   "id": "4bd5375a",
   "metadata": {},
   "source": [
    "### 3.3.2 Double Preprocess Data"
   ]
  },
  {
   "cell_type": "code",
   "execution_count": 66,
   "id": "aad0b3af",
   "metadata": {},
   "outputs": [
    {
     "name": "stderr",
     "output_type": "stream",
     "text": [
      "INFO:root:1190 training genes are saved in `uns``training_genes` of both single cell and spatial Anndatas.\n",
      "INFO:root:14164 overlapped genes are saved in `uns``overlap_genes` of both single cell and spatial Anndatas.\n",
      "INFO:root:uniform based density prior is calculated and saved in `obs``uniform_density` of the spatial Anndata.\n",
      "INFO:root:rna count based density prior is calculated and saved in `obs``rna_count_based_density` of the spatial Anndata.\n",
      "INFO:root:1190 training genes are saved in `uns``training_genes` of both single cell and spatial Anndatas.\n",
      "INFO:root:14408 overlapped genes are saved in `uns``overlap_genes` of both single cell and spatial Anndatas.\n",
      "INFO:root:uniform based density prior is calculated and saved in `obs``uniform_density` of the spatial Anndata.\n",
      "INFO:root:rna count based density prior is calculated and saved in `obs``rna_count_based_density` of the spatial Anndata.\n"
     ]
    }
   ],
   "source": [
    "tg.pp_adatas(adata_sc1, adata_st, genes=markers)\n",
    "tg.pp_adatas(adata_sc2, adata_st, genes=markers)"
   ]
  },
  {
   "cell_type": "code",
   "execution_count": 56,
   "id": "871525b1",
   "metadata": {},
   "outputs": [
    {
     "data": {
      "text/plain": [
       "AnnData object with n_obs × n_vars = 30593 × 24522\n",
       "    obs: 'batch', 'condition', 'sampleID', 'n_genes_by_counts', 'total_counts', 'total_counts_mt', 'pct_counts_mt', 'n_counts_ribo_p', 'percent_ribo_p', 'sf', 'leiden', 'nowakowski_med'\n",
       "    var: 'gene_ids', 'feature_types', 'mt', 'n_cells_by_counts', 'mean_counts', 'pct_dropout_by_counts', 'total_counts', 'n_cells'\n",
       "    uns: 'batch_colors', 'condition_colors', 'leiden', 'log1p', 'neighbors', 'umap', 'rank_genes_groups', 'training_genes', 'overlap_genes'\n",
       "    obsm: 'X_liger', 'X_umap'\n",
       "    layers: 'counts', 'sf'\n",
       "    obsp: 'connectivities', 'distances'"
      ]
     },
     "execution_count": 56,
     "metadata": {},
     "output_type": "execute_result"
    }
   ],
   "source": [
    "adata_sc2"
   ]
  },
  {
   "cell_type": "markdown",
   "id": "e00c8c7a",
   "metadata": {},
   "source": [
    "### 3.3.3 Double Generate Map"
   ]
  },
  {
   "cell_type": "code",
   "execution_count": 68,
   "id": "6528dd51",
   "metadata": {},
   "outputs": [
    {
     "name": "stderr",
     "output_type": "stream",
     "text": [
      "INFO:root:Allocate tensors for mapping.\n",
      "INFO:root:Begin training with 1190 genes and rna_count_based density_prior in cells mode...\n"
     ]
    },
    {
     "ename": "RuntimeError",
     "evalue": "CUDA out of memory. Tried to allocate 1.18 GiB (GPU 0; 6.00 GiB total capacity; 4.16 GiB already allocated; 275.00 MiB free; 4.17 GiB reserved in total by PyTorch) If reserved memory is >> allocated memory try setting max_split_size_mb to avoid fragmentation.  See documentation for Memory Management and PYTORCH_CUDA_ALLOC_CONF",
     "output_type": "error",
     "traceback": [
      "\u001b[1;31m---------------------------------------------------------------------------\u001b[0m",
      "\u001b[1;31mRuntimeError\u001b[0m                              Traceback (most recent call last)",
      "\u001b[1;32m~\\AppData\\Local\\Temp/ipykernel_5392/2592973272.py\u001b[0m in \u001b[0;36m<module>\u001b[1;34m\u001b[0m\n\u001b[0;32m      3\u001b[0m \u001b[1;32mimport\u001b[0m \u001b[0mtorch\u001b[0m\u001b[1;33m\u001b[0m\u001b[1;33m\u001b[0m\u001b[0m\n\u001b[0;32m      4\u001b[0m \u001b[0mtorch\u001b[0m\u001b[1;33m.\u001b[0m\u001b[0mcuda\u001b[0m\u001b[1;33m.\u001b[0m\u001b[0mempty_cache\u001b[0m\u001b[1;33m(\u001b[0m\u001b[1;33m)\u001b[0m\u001b[1;33m\u001b[0m\u001b[1;33m\u001b[0m\u001b[0m\n\u001b[1;32m----> 5\u001b[1;33m ad_map1 = tg.map_cells_to_space(adata_sc1, adata_st,\n\u001b[0m\u001b[0;32m      6\u001b[0m     \u001b[0mmode\u001b[0m\u001b[1;33m=\u001b[0m\u001b[1;34m\"cells\"\u001b[0m\u001b[1;33m,\u001b[0m\u001b[1;33m\u001b[0m\u001b[1;33m\u001b[0m\u001b[0m\n\u001b[0;32m      7\u001b[0m \u001b[1;31m#     mode=\"clusters\",\u001b[0m\u001b[1;33m\u001b[0m\u001b[1;33m\u001b[0m\u001b[0m\n",
      "\u001b[1;32m~\\anaconda3\\lib\\site-packages\\tangram\\mapping_utils.py\u001b[0m in \u001b[0;36mmap_cells_to_space\u001b[1;34m(adata_sc, adata_sp, cv_train_genes, cluster_label, mode, device, learning_rate, num_epochs, scale, lambda_d, lambda_g1, lambda_g2, lambda_r, lambda_count, lambda_f_reg, target_count, random_state, verbose, density_prior)\u001b[0m\n\u001b[0;32m    307\u001b[0m             )\n\u001b[0;32m    308\u001b[0m         )\n\u001b[1;32m--> 309\u001b[1;33m         mapper = mo.Mapper(\n\u001b[0m\u001b[0;32m    310\u001b[0m             \u001b[0mS\u001b[0m\u001b[1;33m=\u001b[0m\u001b[0mS\u001b[0m\u001b[1;33m,\u001b[0m \u001b[0mG\u001b[0m\u001b[1;33m=\u001b[0m\u001b[0mG\u001b[0m\u001b[1;33m,\u001b[0m \u001b[0md\u001b[0m\u001b[1;33m=\u001b[0m\u001b[0md\u001b[0m\u001b[1;33m,\u001b[0m \u001b[0mdevice\u001b[0m\u001b[1;33m=\u001b[0m\u001b[0mdevice\u001b[0m\u001b[1;33m,\u001b[0m \u001b[0mrandom_state\u001b[0m\u001b[1;33m=\u001b[0m\u001b[0mrandom_state\u001b[0m\u001b[1;33m,\u001b[0m \u001b[1;33m**\u001b[0m\u001b[0mhyperparameters\u001b[0m\u001b[1;33m,\u001b[0m\u001b[1;33m\u001b[0m\u001b[1;33m\u001b[0m\u001b[0m\n\u001b[0;32m    311\u001b[0m         )\n",
      "\u001b[1;32m~\\anaconda3\\lib\\site-packages\\tangram\\mapping_optimizer.py\u001b[0m in \u001b[0;36m__init__\u001b[1;34m(self, S, G, d, d_source, lambda_g1, lambda_d, lambda_g2, lambda_r, device, adata_map, random_state)\u001b[0m\n\u001b[0;32m     81\u001b[0m             \u001b[0mself\u001b[0m\u001b[1;33m.\u001b[0m\u001b[0mM\u001b[0m \u001b[1;33m=\u001b[0m \u001b[0madata_map\u001b[0m\u001b[1;33m.\u001b[0m\u001b[0mX\u001b[0m  \u001b[1;31m# doesn't work. maybe apply inverse softmax\u001b[0m\u001b[1;33m\u001b[0m\u001b[1;33m\u001b[0m\u001b[0m\n\u001b[0;32m     82\u001b[0m \u001b[1;33m\u001b[0m\u001b[0m\n\u001b[1;32m---> 83\u001b[1;33m         self.M = torch.tensor(\n\u001b[0m\u001b[0;32m     84\u001b[0m             \u001b[0mself\u001b[0m\u001b[1;33m.\u001b[0m\u001b[0mM\u001b[0m\u001b[1;33m,\u001b[0m \u001b[0mdevice\u001b[0m\u001b[1;33m=\u001b[0m\u001b[0mdevice\u001b[0m\u001b[1;33m,\u001b[0m \u001b[0mrequires_grad\u001b[0m\u001b[1;33m=\u001b[0m\u001b[1;32mTrue\u001b[0m\u001b[1;33m,\u001b[0m \u001b[0mdtype\u001b[0m\u001b[1;33m=\u001b[0m\u001b[0mtorch\u001b[0m\u001b[1;33m.\u001b[0m\u001b[0mfloat32\u001b[0m\u001b[1;33m\u001b[0m\u001b[1;33m\u001b[0m\u001b[0m\n\u001b[0;32m     85\u001b[0m         )\n",
      "\u001b[1;31mRuntimeError\u001b[0m: CUDA out of memory. Tried to allocate 1.18 GiB (GPU 0; 6.00 GiB total capacity; 4.16 GiB already allocated; 275.00 MiB free; 4.17 GiB reserved in total by PyTorch) If reserved memory is >> allocated memory try setting max_split_size_mb to avoid fragmentation.  See documentation for Memory Management and PYTORCH_CUDA_ALLOC_CONF"
     ]
    }
   ],
   "source": [
    "epochs = 500\n",
    "\n",
    "import torch\n",
    "torch.cuda.empty_cache()\n",
    "ad_map1 = tg.map_cells_to_space(adata_sc1, adata_st,\n",
    "    mode=\"cells\",\n",
    "#     mode=\"clusters\",\n",
    "#     cluster_label='cell_subclass',  # .obs field w cell types\n",
    "    density_prior='rna_count_based',\n",
    "    num_epochs= epochs,\n",
    "     device=\"cuda:0\",\n",
    "#    device='cpu',\n",
    ")\n",
    "torch.cuda.empty_cache()\n",
    "ad_map2 = tg.map_cells_to_space(adata_sc2, adata_st,\n",
    "    mode=\"cells\",\n",
    "#     mode=\"clusters\",\n",
    "#     cluster_label='cell_subclass',  # .obs field w cell types\n",
    "    density_prior='rna_count_based',\n",
    "    num_epochs= epochs,\n",
    "     device=\"cuda:0\",\n",
    "#    device='cpu',\n",
    ")"
   ]
  },
  {
   "cell_type": "markdown",
   "id": "742b505c",
   "metadata": {},
   "source": [
    "### 3.3.4 Double Save Map"
   ]
  },
  {
   "cell_type": "code",
   "execution_count": 14,
   "id": "5a6d31a5",
   "metadata": {},
   "outputs": [
    {
     "data": {
      "text/plain": [
       "AnnData object with n_obs × n_vars = 4910 × 25285\n",
       "    obs: 'in_tissue', 'array_row', 'array_col', 'n_genes_by_counts', 'log1p_n_genes_by_counts', 'total_counts', 'log1p_total_counts', 'pct_counts_in_top_50_genes', 'pct_counts_in_top_100_genes', 'pct_counts_in_top_200_genes', 'pct_counts_in_top_500_genes', 'clusters', 'uniform_density', 'rna_count_based_density'\n",
       "    var: 'gene_ids', 'feature_types', 'genome', 'n_cells_by_counts', 'mean_counts', 'log1p_mean_counts', 'pct_dropout_by_counts', 'total_counts', 'log1p_total_counts', 'highly_variable', 'means', 'dispersions', 'dispersions_norm', 'n_cells', 'sparsity'\n",
       "    uns: 'spatial', 'log1p', 'hvg', 'neighbors', 'umap', 'leiden', 'training_genes', 'overlap_genes'\n",
       "    obsm: 'spatial', 'X_pca', 'X_umap'\n",
       "    obsp: 'distances', 'connectivities'"
      ]
     },
     "execution_count": 14,
     "metadata": {},
     "output_type": "execute_result"
    }
   ],
   "source": [
    "adata_st"
   ]
  },
  {
   "cell_type": "code",
   "execution_count": 15,
   "id": "0ab0440a",
   "metadata": {},
   "outputs": [],
   "source": [
    "adata_st.write_h5ad(\"adata_st.h5ad\")\n",
    "ad_map1.write_h5ad(\"ad_map1.h5ad\")\n",
    "ad_map2.write_h5ad(\"ad_map2.h5ad\")"
   ]
  },
  {
   "cell_type": "code",
   "execution_count": null,
   "id": "fbe07954",
   "metadata": {},
   "outputs": [],
   "source": []
  }
 ],
 "metadata": {
  "kernelspec": {
   "display_name": "Python 3 (ipykernel)",
   "language": "python",
   "name": "python3"
  },
  "language_info": {
   "codemirror_mode": {
    "name": "ipython",
    "version": 3
   },
   "file_extension": ".py",
   "mimetype": "text/x-python",
   "name": "python",
   "nbconvert_exporter": "python",
   "pygments_lexer": "ipython3",
   "version": "3.9.7"
  }
 },
 "nbformat": 4,
 "nbformat_minor": 5
}
